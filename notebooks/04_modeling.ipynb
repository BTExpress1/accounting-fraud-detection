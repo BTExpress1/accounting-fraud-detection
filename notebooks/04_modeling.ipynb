{
 "cells": [
  {
   "cell_type": "markdown",
   "id": "ec2fe34f-4d03-4dea-9e16-6c0364791fe6",
   "metadata": {},
   "source": [
    "<div class=\"alert alert-block alert-info\" align=center><h1>Accounting Fraud Detection Modeling</h1></div>"
   ]
  },
  {
   "cell_type": "markdown",
   "id": "c78668e0-a832-404c-b07b-88ffe39ff3a7",
   "metadata": {},
   "source": [
    "## <div class=\"alert alert-block alert-info\" ><h1>Imports</h1></div>"
   ]
  },
  {
   "cell_type": "code",
   "execution_count": 1,
   "id": "2fa49e72-3af5-426b-8c9b-7d817e00f9e5",
   "metadata": {
    "execution": {
     "iopub.execute_input": "2025-05-20T00:20:43.682438Z",
     "iopub.status.busy": "2025-05-20T00:20:43.682438Z",
     "iopub.status.idle": "2025-05-20T00:20:47.943307Z",
     "shell.execute_reply": "2025-05-20T00:20:47.942287Z",
     "shell.execute_reply.started": "2025-05-20T00:20:43.682438Z"
    }
   },
   "outputs": [
    {
     "name": "stdout",
     "output_type": "stream",
     "text": [
      "WARNING:tensorflow:From C:\\Users\\binia\\AppData\\Roaming\\Python\\Python311\\site-packages\\keras\\src\\losses.py:2976: The name tf.losses.sparse_softmax_cross_entropy is deprecated. Please use tf.compat.v1.losses.sparse_softmax_cross_entropy instead.\n",
      "\n"
     ]
    }
   ],
   "source": [
    "import pandas as pd\n",
    "import numpy as np\n",
    "import matplotlib.pyplot as plt\n",
    "import seaborn as sns\n",
    "import time\n",
    "import os\n",
    "import joblib\n",
    "import json\n",
    "from datetime import datetime\n",
    "from sklearn.preprocessing import RobustScaler, StandardScaler\n",
    "from sklearn.model_selection import train_test_split\n",
    "from sklearn.compose import ColumnTransformer\n",
    "from sklearn.ensemble import RandomForestClassifier\n",
    "from sklearn.metrics import accuracy_score, f1_score, roc_auc_score, classification_report, confusion_matrix\n",
    "from catboost import CatBoostClassifier\n",
    "from tensorflow.keras.models import Sequential, load_model\n",
    "from tensorflow.keras.layers import Dense, Dropout\n",
    "from tensorflow.keras.optimizers import Adam\n",
    "\n",
    "\n",
    "\n",
    "#Start a timer to check the execution time of the notebook.\n",
    "start_time = time.time()"
   ]
  },
  {
   "cell_type": "markdown",
   "id": "3872720a-65d0-44e4-abd7-5bec43f5dec8",
   "metadata": {},
   "source": [
    "## <div class=\"alert alert-info\"><h1>Load the Models and the Data</h1></div>"
   ]
  },
  {
   "cell_type": "code",
   "execution_count": 4,
   "id": "5b8d0a06-da14-4fd7-9ac5-ee6deb515f7c",
   "metadata": {
    "execution": {
     "iopub.execute_input": "2025-05-20T00:31:57.624262Z",
     "iopub.status.busy": "2025-05-20T00:31:57.623261Z",
     "iopub.status.idle": "2025-05-20T00:31:58.226363Z",
     "shell.execute_reply": "2025-05-20T00:31:58.226363Z",
     "shell.execute_reply.started": "2025-05-20T00:31:57.624262Z"
    }
   },
   "outputs": [],
   "source": [
    "# Define paths\n",
    "modelpath = \"../models\"\n",
    "datapath = \"../data\"\n",
    "\n",
    "# Load models\n",
    "catboost_model = joblib.load(os.path.join(modelpath, \"catboost_model.pkl\"))\n",
    "dnn_model = load_model(os.path.join(modelpath, \"dnn_model.keras\"))\n",
    "\n",
    "# Load metadata\n",
    "with open(os.path.join(modelpath, \"catboost_model_meta.json\")) as f:\n",
    "    catboost_metadata = json.load(f)\n",
    "\n",
    "with open(os.path.join(modelpath, \"dnn_model_meta.json\")) as f:\n",
    "    dnn_metadata = json.load(f)\n",
    "\n",
    "# Load data\n",
    "df = pd.read_csv(os.path.join(datapath, \"fraud_data_eda.csv\"))"
   ]
  },
  {
   "cell_type": "code",
   "execution_count": null,
   "id": "42b851c8-d328-46d4-b81b-507bdde8bf78",
   "metadata": {},
   "outputs": [],
   "source": []
  },
  {
   "cell_type": "code",
   "execution_count": null,
   "id": "1d1e6b93-d854-4731-b732-e6b7072eb69d",
   "metadata": {},
   "outputs": [],
   "source": []
  },
  {
   "cell_type": "code",
   "execution_count": null,
   "id": "0c9554fd-0ae2-4b93-a024-df895f31765b",
   "metadata": {},
   "outputs": [],
   "source": []
  },
  {
   "cell_type": "code",
   "execution_count": null,
   "id": "244395fe-c82e-4ca6-b031-00d765f056e4",
   "metadata": {},
   "outputs": [],
   "source": []
  },
  {
   "cell_type": "code",
   "execution_count": null,
   "id": "9b4b394a-93cb-4e89-8075-eaf80209fa1f",
   "metadata": {},
   "outputs": [],
   "source": []
  },
  {
   "cell_type": "code",
   "execution_count": null,
   "id": "fba944f0-fa75-4e2b-9856-95acf26f8c9e",
   "metadata": {},
   "outputs": [],
   "source": [
    "#Stop the timer to check the execution time of the notebook.\n",
    "end_time = time.time()\n",
    "print(f\"Total execution time: {round(end_time - start_time, 2)} seconds\")"
   ]
  }
 ],
 "metadata": {
  "kernelspec": {
   "display_name": "Python 3.11 (fd-env)",
   "language": "python",
   "name": "fd-env"
  },
  "language_info": {
   "codemirror_mode": {
    "name": "ipython",
    "version": 3
   },
   "file_extension": ".py",
   "mimetype": "text/x-python",
   "name": "python",
   "nbconvert_exporter": "python",
   "pygments_lexer": "ipython3",
   "version": "3.11.8"
  }
 },
 "nbformat": 4,
 "nbformat_minor": 5
}
