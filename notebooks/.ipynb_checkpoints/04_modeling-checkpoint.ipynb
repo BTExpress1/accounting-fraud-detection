{
 "cells": [
  {
   "cell_type": "markdown",
   "id": "ec2fe34f-4d03-4dea-9e16-6c0364791fe6",
   "metadata": {},
   "source": [
    "<div class=\"alert alert-block alert-info\" align=center><h1>Accounting Fraud Detection Modeling</h1></div>"
   ]
  },
  {
   "cell_type": "markdown",
   "id": "c78668e0-a832-404c-b07b-88ffe39ff3a7",
   "metadata": {},
   "source": [
    "## <div class=\"alert alert-block alert-info\" ><h1>Imports</h1></div>"
   ]
  },
  {
   "cell_type": "code",
   "execution_count": 1,
   "id": "2fa49e72-3af5-426b-8c9b-7d817e00f9e5",
   "metadata": {
    "execution": {
     "iopub.execute_input": "2025-05-20T15:43:01.266578Z",
     "iopub.status.busy": "2025-05-20T15:43:01.266578Z",
     "iopub.status.idle": "2025-05-20T15:43:04.812718Z",
     "shell.execute_reply": "2025-05-20T15:43:04.812718Z",
     "shell.execute_reply.started": "2025-05-20T15:43:01.266578Z"
    }
   },
   "outputs": [
    {
     "name": "stdout",
     "output_type": "stream",
     "text": [
      "WARNING:tensorflow:From C:\\Users\\binia\\AppData\\Roaming\\Python\\Python311\\site-packages\\keras\\src\\losses.py:2976: The name tf.losses.sparse_softmax_cross_entropy is deprecated. Please use tf.compat.v1.losses.sparse_softmax_cross_entropy instead.\n",
      "\n"
     ]
    }
   ],
   "source": [
    "import pandas as pd\n",
    "import numpy as np\n",
    "import matplotlib.pyplot as plt\n",
    "import seaborn as sns\n",
    "import time\n",
    "import os\n",
    "import joblib\n",
    "import json\n",
    "from datetime import datetime\n",
    "from sklearn.preprocessing import RobustScaler, StandardScaler\n",
    "from sklearn.model_selection import train_test_split, RandomizedSearchCV\n",
    "from sklearn.compose import ColumnTransformer\n",
    "from sklearn.ensemble import RandomForestClassifier\n",
    "from sklearn.metrics import accuracy_score, f1_score, roc_auc_score, classification_report, confusion_matrix\n",
    "from sklearn.utils.class_weight import compute_class_weight\n",
    "from catboost import CatBoostClassifier\n",
    "from tensorflow.keras.models import Sequential, load_model\n",
    "from tensorflow.keras.layers import Dense, Dropout\n",
    "from tensorflow.keras.optimizers import Adam\n",
    "from scipy.stats import uniform, randint\n",
    "\n",
    "#Start a timer to check the execution time of the notebook.\n",
    "start_time = time.time()"
   ]
  },
  {
   "cell_type": "markdown",
   "id": "3872720a-65d0-44e4-abd7-5bec43f5dec8",
   "metadata": {},
   "source": [
    "## <div class=\"alert alert-info\"><h1>Load the Models and the Data</h1></div>"
   ]
  },
  {
   "cell_type": "code",
   "execution_count": 2,
   "id": "5b8d0a06-da14-4fd7-9ac5-ee6deb515f7c",
   "metadata": {
    "execution": {
     "iopub.execute_input": "2025-05-20T15:43:04.813723Z",
     "iopub.status.busy": "2025-05-20T15:43:04.813723Z",
     "iopub.status.idle": "2025-05-20T15:43:05.399126Z",
     "shell.execute_reply": "2025-05-20T15:43:05.399126Z",
     "shell.execute_reply.started": "2025-05-20T15:43:04.813723Z"
    }
   },
   "outputs": [
    {
     "name": "stdout",
     "output_type": "stream",
     "text": [
      "WARNING:tensorflow:From C:\\Users\\binia\\AppData\\Roaming\\Python\\Python311\\site-packages\\keras\\src\\backend.py:1398: The name tf.executing_eagerly_outside_functions is deprecated. Please use tf.compat.v1.executing_eagerly_outside_functions instead.\n",
      "\n"
     ]
    }
   ],
   "source": [
    "# Define paths\n",
    "modelpath = \"../models\"\n",
    "datapath = \"../data\"\n",
    "\n",
    "# Load models\n",
    "catboost_model = joblib.load(os.path.join(modelpath, \"catboost_model.pkl\"))\n",
    "dnn_model = load_model(os.path.join(modelpath, \"dnn_model.keras\"))\n",
    "\n",
    "# Load metadata\n",
    "with open(os.path.join(modelpath, \"catboost_model_meta.json\")) as f:\n",
    "    catboost_metadata = json.load(f)\n",
    "\n",
    "with open(os.path.join(modelpath, \"dnn_model_meta.json\")) as f:\n",
    "    dnn_metadata = json.load(f)\n",
    "\n",
    "# Load data\n",
    "df = pd.read_csv(os.path.join(datapath, \"fraud_data_eda.csv\"))"
   ]
  },
  {
   "cell_type": "markdown",
   "id": "81d145c3-f145-4b22-9c9c-d47186b3f242",
   "metadata": {},
   "source": [
    "<div class=\"alert alert-info\">We are tuning the models starting with CatBoost.<br>\n",
    "Before tuning, we will load the results from the baseline model.\n",
    "\n",
    "</div>"
   ]
  },
  {
   "cell_type": "code",
   "execution_count": 3,
   "id": "df87f91d-e62d-49d2-b453-4501cbf8115f",
   "metadata": {
    "execution": {
     "iopub.execute_input": "2025-05-20T15:43:05.400500Z",
     "iopub.status.busy": "2025-05-20T15:43:05.399126Z",
     "iopub.status.idle": "2025-05-20T15:43:05.471991Z",
     "shell.execute_reply": "2025-05-20T15:43:05.471991Z",
     "shell.execute_reply.started": "2025-05-20T15:43:05.400500Z"
    }
   },
   "outputs": [],
   "source": [
    "# Extract features and target\n",
    "features = catboost_metadata[\"features\"]\n",
    "X = df[features]\n",
    "y = df[\"misstate\"]\n",
    "\n",
    "# 80/20 train-test split\n",
    "X_train, X_test, y_train, y_test = train_test_split(\n",
    "    X, y, test_size=0.2, random_state=42, stratify=y\n",
    ")"
   ]
  },
  {
   "cell_type": "code",
   "execution_count": 9,
   "id": "42b851c8-d328-46d4-b81b-507bdde8bf78",
   "metadata": {
    "execution": {
     "iopub.execute_input": "2025-05-20T15:50:06.400248Z",
     "iopub.status.busy": "2025-05-20T15:50:06.400248Z",
     "iopub.status.idle": "2025-05-20T15:50:06.471377Z",
     "shell.execute_reply": "2025-05-20T15:50:06.470161Z",
     "shell.execute_reply.started": "2025-05-20T15:50:06.400248Z"
    }
   },
   "outputs": [
    {
     "name": "stdout",
     "output_type": "stream",
     "text": [
      "📦 Saved CatBoost Model\n",
      "Accuracy:     0.9933\n",
      "F1 Score:     0.0000\n",
      "ROC AUC: 0.5798299955286417\n",
      "              precision    recall  f1-score   support\n",
      "\n",
      "           0       0.99      1.00      1.00     29016\n",
      "           1       0.00      0.00      0.00       193\n",
      "\n",
      "    accuracy                           0.99     29209\n",
      "   macro avg       0.50      0.50      0.50     29209\n",
      "weighted avg       0.99      0.99      0.99     29209\n",
      "\n"
     ]
    }
   ],
   "source": [
    "# Evaluate saved CatBoost model\n",
    "saved_pred = catboost_model.predict(X_test)\n",
    "saved_proba = catboost_model.predict_proba(X_test)[:, 1]\n",
    "\n",
    "print(\"📦 Saved CatBoost Model\")\n",
    "print(f\"Accuracy:     {accuracy_score(y_test, saved_pred):.4f}\")\n",
    "print(f\"F1 Score:     {f1_score(y_test, saved_pred):.4f}\")\n",
    "print(\"ROC AUC:\", roc_auc_score(y_test, saved_proba))\n",
    "print(classification_report(y_test, saved_pred))\n",
    "\n",
    "# Already printed: baseline_catboost results\n",
    "#print(\"\\n🧪 Baseline CatBoost Re-trained on Split\")\n",
    "#print(\"ROC AUC:\", roc_auc_score(y_test, y_proba))\n",
    "#print(classification_report(y_test, y_pred))"
   ]
  },
  {
   "cell_type": "code",
   "execution_count": 5,
   "id": "1d1e6b93-d854-4731-b732-e6b7072eb69d",
   "metadata": {
    "execution": {
     "iopub.execute_input": "2025-05-20T15:43:05.517211Z",
     "iopub.status.busy": "2025-05-20T15:43:05.517211Z",
     "iopub.status.idle": "2025-05-20T15:43:16.642094Z",
     "shell.execute_reply": "2025-05-20T15:43:16.642094Z",
     "shell.execute_reply.started": "2025-05-20T15:43:05.517211Z"
    }
   },
   "outputs": [
    {
     "name": "stdout",
     "output_type": "stream",
     "text": [
      "ROC AUC: 0.8356784750525349\n",
      "              precision    recall  f1-score   support\n",
      "\n",
      "           0       0.99      1.00      1.00     29016\n",
      "           1       0.36      0.16      0.22       193\n",
      "\n",
      "    accuracy                           0.99     29209\n",
      "   macro avg       0.68      0.58      0.61     29209\n",
      "weighted avg       0.99      0.99      0.99     29209\n",
      "\n"
     ]
    }
   ],
   "source": [
    "\n",
    "\n",
    "# Baseline CatBoost model\n",
    "# Compute class weights\n",
    "classes = np.unique(y_train)\n",
    "weights = compute_class_weight(class_weight='balanced', classes=classes, y=y_train)\n",
    "class_weights = dict(zip(classes, weights))\n",
    "\n",
    "# Use in CatBoost\n",
    "baseline_catboost = CatBoostClassifier(\n",
    "    verbose=0,\n",
    "    random_state=42,\n",
    "    eval_metric='AUC',\n",
    "    class_weights=class_weights\n",
    ")\n",
    "baseline_catboost.fit(X_train, y_train)\n",
    "\n",
    "# Evaluation\n",
    "y_pred = baseline_catboost.predict(X_test)\n",
    "y_proba = baseline_catboost.predict_proba(X_test)[:, 1]\n",
    "\n",
    "print(\"ROC AUC:\", roc_auc_score(y_test, y_proba))\n",
    "print(classification_report(y_test, y_pred))\n"
   ]
  },
  {
   "cell_type": "markdown",
   "id": "1d5e8e16-55d7-49e6-8878-26e0c5c7888d",
   "metadata": {},
   "source": [
    "<div class=\"alert alert-info\">We tuned models significantly outperformed the baseline. \n",
    "Time for some cross-validation.\n",
    "\n",
    "</div>"
   ]
  },
  {
   "cell_type": "code",
   "execution_count": 6,
   "id": "0c9554fd-0ae2-4b93-a024-df895f31765b",
   "metadata": {
    "execution": {
     "iopub.execute_input": "2025-05-20T15:43:16.644122Z",
     "iopub.status.busy": "2025-05-20T15:43:16.643100Z",
     "iopub.status.idle": "2025-05-20T15:43:16.649309Z",
     "shell.execute_reply": "2025-05-20T15:43:16.648120Z",
     "shell.execute_reply.started": "2025-05-20T15:43:16.644122Z"
    }
   },
   "outputs": [],
   "source": [
    "CV = 5  # cross-validation folds for tuning"
   ]
  },
  {
   "cell_type": "code",
   "execution_count": 7,
   "id": "9e9e00b4-881b-46d9-b3bf-4294d7aee747",
   "metadata": {
    "execution": {
     "iopub.execute_input": "2025-05-20T15:43:16.650315Z",
     "iopub.status.busy": "2025-05-20T15:43:16.649309Z",
     "iopub.status.idle": "2025-05-20T15:50:06.389461Z",
     "shell.execute_reply": "2025-05-20T15:50:06.389461Z",
     "shell.execute_reply.started": "2025-05-20T15:43:16.650315Z"
    }
   },
   "outputs": [
    {
     "name": "stdout",
     "output_type": "stream",
     "text": [
      "Fitting 5 folds for each of 20 candidates, totalling 100 fits\n",
      "🔍 Tuned CatBoost\n",
      "Best Params: {'border_count': 114, 'depth': 6, 'iterations': 530, 'l2_leaf_reg': 3.2962444598293357, 'learning_rate': 0.038370861113902185}\n",
      "ROC AUC: 0.8397050189211313\n",
      "              precision    recall  f1-score   support\n",
      "\n",
      "           0       1.00      0.95      0.97     29016\n",
      "           1       0.05      0.42      0.09       193\n",
      "\n",
      "    accuracy                           0.94     29209\n",
      "   macro avg       0.52      0.69      0.53     29209\n",
      "weighted avg       0.99      0.94      0.97     29209\n",
      "\n"
     ]
    }
   ],
   "source": [
    "# Define hyperparameter space\n",
    "param_dist = {\n",
    "    \"iterations\": randint(200, 1000),\n",
    "    \"depth\": randint(4, 8),\n",
    "    \"learning_rate\": uniform(0.005, 0.1),\n",
    "    \"l2_leaf_reg\": uniform(1, 5),\n",
    "    \"border_count\": randint(32, 128)\n",
    "}\n",
    "\n",
    "# Instantiate base model\n",
    "catboost_base = CatBoostClassifier(\n",
    "    verbose=0,\n",
    "    random_state=42,\n",
    "    eval_metric=\"AUC\",\n",
    "    class_weights=compute_class_weight(class_weight=\"balanced\", classes=np.unique(y_train), y=y_train).tolist()\n",
    ")\n",
    "\n",
    "# Randomized Search\n",
    "catboost_random_search = RandomizedSearchCV(\n",
    "    estimator=catboost_base,\n",
    "    param_distributions=param_dist,\n",
    "    n_iter=20,\n",
    "    cv=CV,\n",
    "    scoring=\"roc_auc\",\n",
    "    verbose=2,\n",
    "    random_state=42,\n",
    "    n_jobs=-1\n",
    ")\n",
    "\n",
    "# Run search\n",
    "catboost_random_search.fit(X_train, y_train)\n",
    "\n",
    "# Best model\n",
    "best_catboost = catboost_random_search.best_estimator_\n",
    "\n",
    "# Evaluate\n",
    "y_pred = best_catboost.predict(X_test)\n",
    "y_proba = best_catboost.predict_proba(X_test)[:, 1]\n",
    "\n",
    "print(\"🔍 Tuned CatBoost\")\n",
    "print(\"Best Params:\", catboost_random_search.best_params_)\n",
    "print(\"ROC AUC:\", roc_auc_score(y_test, y_proba))\n",
    "print(classification_report(y_test, y_pred))\n"
   ]
  },
  {
   "cell_type": "code",
   "execution_count": null,
   "id": "830808c0-8e3e-4d18-b421-39f122e2a976",
   "metadata": {},
   "outputs": [],
   "source": []
  },
  {
   "cell_type": "code",
   "execution_count": null,
   "id": "801f66b2-b85e-4335-b54e-a3e41ac433a4",
   "metadata": {},
   "outputs": [],
   "source": []
  },
  {
   "cell_type": "code",
   "execution_count": null,
   "id": "092731a2-97f2-452a-83f6-aa8dedbc633a",
   "metadata": {},
   "outputs": [],
   "source": []
  },
  {
   "cell_type": "code",
   "execution_count": null,
   "id": "f38f74bd-a06f-44fe-8647-30e69a64334e",
   "metadata": {},
   "outputs": [],
   "source": []
  },
  {
   "cell_type": "code",
   "execution_count": null,
   "id": "244395fe-c82e-4ca6-b031-00d765f056e4",
   "metadata": {},
   "outputs": [],
   "source": []
  },
  {
   "cell_type": "code",
   "execution_count": null,
   "id": "9b4b394a-93cb-4e89-8075-eaf80209fa1f",
   "metadata": {},
   "outputs": [],
   "source": []
  },
  {
   "cell_type": "code",
   "execution_count": 8,
   "id": "fba944f0-fa75-4e2b-9856-95acf26f8c9e",
   "metadata": {
    "execution": {
     "iopub.execute_input": "2025-05-20T15:50:06.391189Z",
     "iopub.status.busy": "2025-05-20T15:50:06.391189Z",
     "iopub.status.idle": "2025-05-20T15:50:06.395766Z",
     "shell.execute_reply": "2025-05-20T15:50:06.395766Z",
     "shell.execute_reply.started": "2025-05-20T15:50:06.391189Z"
    }
   },
   "outputs": [
    {
     "name": "stdout",
     "output_type": "stream",
     "text": [
      "Total execution time: 421.58 seconds\n"
     ]
    }
   ],
   "source": [
    "#Stop the timer to check the execution time of the notebook.\n",
    "end_time = time.time()\n",
    "print(f\"Total execution time: {round(end_time - start_time, 2)} seconds\")"
   ]
  }
 ],
 "metadata": {
  "kernelspec": {
   "display_name": "Python 3.11 (fd-env)",
   "language": "python",
   "name": "fd-env"
  },
  "language_info": {
   "codemirror_mode": {
    "name": "ipython",
    "version": 3
   },
   "file_extension": ".py",
   "mimetype": "text/x-python",
   "name": "python",
   "nbconvert_exporter": "python",
   "pygments_lexer": "ipython3",
   "version": "3.11.8"
  }
 },
 "nbformat": 4,
 "nbformat_minor": 5
}
