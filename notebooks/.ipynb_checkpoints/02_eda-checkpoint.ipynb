{
 "cells": [
  {
   "cell_type": "markdown",
   "id": "792157a9-eb44-43cc-b12f-645faca4075b",
   "metadata": {},
   "source": [
    "<div class=\"alert alert-block alert-info\" align=center><h1>Accounting Fraud Detection Explaratory Data Analysis</h1></div>"
   ]
  },
  {
   "cell_type": "markdown",
   "id": "6455169a-dcc1-489b-b3d9-8545ffa89957",
   "metadata": {},
   "source": [
    "## <div class=\"alert alert-block alert-info\" ><h1>Imports</h1></div>"
   ]
  },
  {
   "cell_type": "code",
   "execution_count": null,
   "id": "25e95a02-fbf9-436a-808d-fd48986447fb",
   "metadata": {},
   "outputs": [],
   "source": [
    "import pandas as pd\n",
    "import numpy as np\n",
    "import matplotlib.pyplot as plt\n",
    "import seaborn as sns\n",
    "import time\n",
    "import os\n",
    "from sklearn.decomposition import PCA\n",
    "from sklearn.preprocessing import scale\n",
    "\n",
    "\n",
    "#Start a timer to check the execution time of the notebook.\n",
    "start_time = time.time()"
   ]
  },
  {
   "cell_type": "markdown",
   "id": "4f3cebf0-2d9c-477a-812a-d71858f710fd",
   "metadata": {},
   "source": [
    "## <div class=\"alert alert-block alert-info\" ><h1>Function Definitions and Plot Settings</h1></div>"
   ]
  },
  {
   "cell_type": "code",
   "execution_count": null,
   "id": "90853e64-edb2-496b-9c75-272014a67e19",
   "metadata": {},
   "outputs": [],
   "source": [
    "# Settings\n",
    "sns.set(style=\"whitegrid\")\n",
    "%matplotlib inline"
   ]
  },
  {
   "cell_type": "code",
   "execution_count": null,
   "id": "65a3ef9c-4196-46a6-a8cd-19f611d55322",
   "metadata": {},
   "outputs": [],
   "source": [
    "def plot_split_feature_heatmaps(data):\n",
    "    \"\"\"\n",
    "    Generates two vertically stacked correlation heatmaps for:\n",
    "    1. Raw financial/accounting features\n",
    "    2. Engineered financial ratios and imputation flags\n",
    "\n",
    "    Each heatmap includes `misstate` and uses the lower triangle only.\n",
    "    The heatmaps are horizontally centered and share a single vertical colorbar.\n",
    "    \"\"\"\n",
    "\n",
    "    # Define feature groups\n",
    "    raw_features = [\n",
    "        'misstate', 'act', 'ap', 'at', 'ceq', 'che', 'cogs', 'csho',\n",
    "        'dlc', 'dltis', 'dltt', 'dp', 'ib', 'invt', 'ivao', 'ivst',\n",
    "        'lct', 'lt', 'ni', 'ppegt', 'pstk', 're', 'rect', 'sale',\n",
    "        'sstk', 'txp', 'txt', 'xint', 'prcc_f'\n",
    "    ]\n",
    "\n",
    "    engineered_features = [\n",
    "        'misstate', 'dch_wc', 'ch_rsst', 'dch_rec', 'dch_inv', 'soft_assets',\n",
    "        'ch_cs', 'ch_cm', 'ch_roa', 'issue', 'bm', 'dpi', 'reoa', 'ebit',\n",
    "        'ch_fcf', 'ch_cs_missing', 'ch_cm_missing'\n",
    "    ]\n",
    "\n",
    "    # Create vertically stacked subplots\n",
    "    fig, axes = plt.subplots(\n",
    "        2, 1, figsize=(18, 24),\n",
    "        gridspec_kw={'left': 0.15, 'right': 0.85, 'hspace': 0.3}\n",
    "    )\n",
    "\n",
    "    # Add shared colorbar (centered)\n",
    "    cbar_ax = fig.add_axes([0.87, 0.25, 0.015, 0.5])\n",
    "\n",
    "    def plot_heatmap(cols, ax, title, show_cbar):\n",
    "        corr = data[cols].corr()\n",
    "        mask = np.triu(np.ones_like(corr, dtype=bool))\n",
    "        sns. heatmap(\n",
    "            corr, mask=mask, cmap=\"coolwarm\", center=0,\n",
    "            annot=False, fmt=\".2f\", square=True, ax=ax,\n",
    "            cbar=show_cbar,         # ✅ suppress for first, show for second\n",
    "            cbar_ax=cbar_ax if show_cbar else None\n",
    "        )\n",
    "        ax.set_title(title, fontsize=16)\n",
    "\n",
    "    # Plot both groups (first: no colorbar, second: shared colorbar)\n",
    "    plot_heatmap(raw_features, axes[0], \"Raw Financial Feature Correlations\", show_cbar=False)\n",
    "    plot_heatmap(engineered_features, axes[1], \"Engineered Feature Correlations\", show_cbar=True)\n",
    "\n",
    "\n",
    "    plt.tight_layout(rect=[0, 0, 0.85, 1])\n",
    "    plt.show()\n"
   ]
  },
  {
   "cell_type": "markdown",
   "id": "0a4e220a-eb0c-46ba-8c0c-d7da79606d40",
   "metadata": {},
   "source": [
    "## <div class=\"alert alert-info\"><h1>Load the Data</h1></div>"
   ]
  },
  {
   "cell_type": "code",
   "execution_count": null,
   "id": "271dd9e9-b67e-4962-97ab-89085f0274db",
   "metadata": {},
   "outputs": [],
   "source": [
    "# Define base path\n",
    "datapath = \"../data\"\n",
    "\n",
    "fraud_data = pd.read_csv(os.path.join(datapath, \"fraud_data_clean.csv\"))"
   ]
  },
  {
   "cell_type": "markdown",
   "id": "b78fa590-ac20-485e-a7c5-7b91514da330",
   "metadata": {},
   "source": [
    "<div class=\"alert alert-block alert-info\">\n",
    "Dataset Overview\n",
    "    <li>Shape</li>\n",
    "    <li>Class balance</li>\n",
    "    <li>Column types</li>\n",
    "</div>\n"
   ]
  },
  {
   "cell_type": "code",
   "execution_count": null,
   "id": "81b526d5-3a6d-423f-8646-cd87745c2230",
   "metadata": {},
   "outputs": [],
   "source": [
    "fraud_data.head().T"
   ]
  },
  {
   "cell_type": "code",
   "execution_count": null,
   "id": "436bf4f4-7ae3-41f5-beec-87bccf0158ae",
   "metadata": {},
   "outputs": [],
   "source": [
    "fraud_data.shape , fraud_data['misstate'].value_counts(normalize=True), fraud_data.dtypes.value_counts()"
   ]
  },
  {
   "cell_type": "markdown",
   "id": "aea27bae-a2d7-42b5-8aa0-15f7b1499e03",
   "metadata": {},
   "source": [
    "<div class=\"alert alert-block alert-info\">\n",
    "Exploring correlation between features using Seaborn's heatmap<br><br>\n",
    "Before the heatmap, we will drop fyear and gvkey as they do not add value\n",
    "</div>\n"
   ]
  },
  {
   "cell_type": "code",
   "execution_count": null,
   "id": "48767799-b3fc-444e-9a25-08f8dfb91c8c",
   "metadata": {},
   "outputs": [],
   "source": [
    "fraud_data_cleaned = fraud_data.drop(columns=[\"fyear\", \"gvkey\"])\n",
    "\n",
    "# Correlation heatmap (masking upper triangle for clarity)\n",
    "plt.figure(figsize=(10, 8))\n",
    "corr = fraud_data_cleaned.corr()\n",
    "print(\"Correlation matrix shape:\", corr.shape)\n",
    "\n",
    "# Mask upper triangle\n",
    "mask = np.triu(np.ones_like(corr, dtype=bool))\n",
    "sns.heatmap(corr, mask=mask, cmap='coolwarm', center=0, annot=False, fmt=\".2f\", linewidths=0.5)\n",
    "plt.title(\"Correlation Matrix (Lower Triangle Only)\")\n",
    "plt.show()\n"
   ]
  },
  {
   "cell_type": "code",
   "execution_count": null,
   "id": "338d2ef2-8d3b-4fc7-b103-ed33656b22f9",
   "metadata": {},
   "outputs": [],
   "source": [
    "plot_split_feature_heatmaps(fraud_data_cleaned)"
   ]
  },
  {
   "cell_type": "markdown",
   "id": "a808614a-0757-4f52-9c4c-455d30cea596",
   "metadata": {},
   "source": [
    "<div class=\"alert alert-block alert-info\">\n",
    "It is apparent that some features, like balance-sheet-related ones, are highly correlated. <br>\n",
    "There is, at best, moderate signal with misstate. <br>\n",
    "Other features are at the bottom with insignificant correlation.<br><br>\n",
    "    Based on the wrangling findings of feature distributions, these are the top 5 features to compare across misstate:<br>\n",
    "    <li>at – Total Assets (wide range, right skew)</li>\n",
    "\n",
    "<li>sale – Sales (same)</li>\n",
    "\n",
    "<li>prcc_f – Price Close (likely long tail)</li>\n",
    "\n",
    "<li>bm – Book-to-Market (skewed + meaningful)</li>\n",
    "\n",
    "<li>ebit – Earnings Before Interest and Taxes (high outlier risk)</li>\n",
    "</div>\n"
   ]
  },
  {
   "cell_type": "code",
   "execution_count": null,
   "id": "3ed26b1b-721a-4efe-8de8-b5ce2b5466b8",
   "metadata": {},
   "outputs": [],
   "source": [
    "features = ['at', 'sale', 'prcc_f', 'bm', 'ebit']\n",
    "\n",
    "fig, axes = plt.subplots(len(features), 1, figsize=(10, 24))\n",
    "\n",
    "for i, feature in enumerate(features):\n",
    "    sns.histplot(\n",
    "        data=fraud_data_cleaned,\n",
    "        x=feature,\n",
    "        hue='misstate',\n",
    "        bins=50,\n",
    "        ax=axes[i],\n",
    "        palette={0: '#66c2a5', 1: '#fc8d62'},  # Colorblind-safe\n",
    "        element='step',\n",
    "        stat='density',\n",
    "        common_norm=False\n",
    "    )\n",
    "    axes[i].set_title(f'Distribution of {feature} by misstate')\n",
    "    axes[i].set_xlabel(\"\")\n",
    "    axes[i].set_ylabel(\"Density\")\n",
    "\n",
    "plt.tight_layout()\n",
    "plt.show()\n"
   ]
  },
  {
   "cell_type": "markdown",
   "id": "5b242c8a-1d7d-4178-8d6c-34cfbcdea98f",
   "metadata": {},
   "source": [
    "<div class=\"alert alert-block alert-info\">\n",
    "\n",
    "<b>🔍 Distribution Observations (Fraud vs Non-Fraud)</b><br><br>\n",
    "\n",
    "<table border=\"1\" cellpadding=\"6\" cellspacing=\"0\">\n",
    "  <thead>\n",
    "    <tr>\n",
    "      <th>Feature</th>\n",
    "      <th>Observation</th>\n",
    "    </tr>\n",
    "  </thead>\n",
    "  <tbody>\n",
    "    <tr>\n",
    "      <td><b>at</b> (Assets Total)</td>\n",
    "      <td>Extremely right-skewed. Fraud cases (<code>misstate=1</code>) cluster slightly left of the non-fraud group — suggesting slightly smaller asset base among fraud firms.</td>\n",
    "    </tr>\n",
    "    <tr>\n",
    "      <td><b>sale</b> (Revenue)</td>\n",
    "      <td>Also heavily skewed. Minor leftward shift in fraudulent cases — potentially smaller companies or revenue manipulation.</td>\n",
    "    </tr>\n",
    "    <tr>\n",
    "      <td><b>prcc_f</b> (Stock Price)</td>\n",
    "      <td>Sharp long tail. Fraudulent firms may exhibit slightly lower stock prices overall, but there's overlap.</td>\n",
    "    </tr>\n",
    "    <tr>\n",
    "      <td><b>bm</b> (Book-to-Market)</td>\n",
    "      <td>More concentrated among fraud cases around 0.0–0.5. Suggests some distinction in market valuation of fraud firms.</td>\n",
    "    </tr>\n",
    "    <tr>\n",
    "      <td><b>ebit</b> (Earnings Before Interest & Taxes)</td>\n",
    "      <td>Clear shift: fraud cases center closer to 0, with slight clustering on negative side — may indicate financial stress.</td>\n",
    "    </tr>\n",
    "  </tbody>\n",
    "</table>\n",
    "<br>\n",
    "Time to work on feature importance. <br>\n",
    "We will calculate mean and standard deviation grouped by misstate\n",
    "</div>\n",
    "\n"
   ]
  },
  {
   "cell_type": "code",
   "execution_count": null,
   "id": "fe59c0cf-82fa-410a-89f6-dd55ff92d45d",
   "metadata": {},
   "outputs": [],
   "source": [
    "# Grouped by misstate with multi-index output\n",
    "grouped = fraud_data_cleaned.groupby('misstate').agg(['mean', 'std'])\n",
    "\n",
    "# Swap levels so it's easier to work with\n",
    "grouped = grouped.T\n",
    "grouped.columns = ['class_0', 'class_1']  # mean/std are nested under this\n",
    "grouped = grouped.reset_index()\n",
    "\n",
    "# Separate mean and std\n",
    "grouped_mean = grouped[grouped['level_1'] == 'mean'].drop(columns='level_1').rename(columns={'level_0': 'Feature'})\n",
    "grouped_std = grouped[grouped['level_1'] == 'std'].drop(columns='level_1').rename(columns={'level_0': 'Feature'})\n",
    "\n",
    "# Merge and compute difference\n",
    "grouped_summary = grouped_mean.merge(grouped_std, on='Feature', suffixes=('_mean', '_std'))\n",
    "grouped_summary['mean_diff'] = abs(grouped_summary['class_1_mean'] - grouped_summary['class_0_mean'])\n",
    "\n",
    "# Sort by difference\n",
    "grouped_summary = grouped_summary.sort_values(by='mean_diff', ascending=False)\n",
    "\n",
    "# Preview\n",
    "grouped_summary.head(10)\n",
    "\n"
   ]
  },
  {
   "cell_type": "markdown",
   "id": "0df03701-23d8-4e7d-bf6c-3384cfb96f59",
   "metadata": {},
   "source": [
    "<div class=\"alert alert-block alert-info\">\n",
    "\n",
    "<b>📊 Top Features by Mean Shift Between Fraud and Non-Fraud Classes</b><br><br>\n",
    "\n",
    "<table border=\"1\" cellpadding=\"6\" cellspacing=\"0\">\n",
    "  <thead>\n",
    "    <tr>\n",
    "      <th>Feature</th>\n",
    "      <th>Non-Fraud Mean</th>\n",
    "      <th>Fraud Mean</th>\n",
    "      <th>Non-Fraud Std</th>\n",
    "      <th>Fraud Std</th>\n",
    "      <th>Δ Mean Diff</th>\n",
    "    </tr>\n",
    "  </thead>\n",
    "  <tbody>\n",
    "    <tr><td>at</td><td>2352.82</td><td>5567.47</td><td>11856.39</td><td>22281.64</td><td><b>3214.65</b></td></tr>\n",
    "    <tr><td>sale</td><td>1879.16</td><td>4406.17</td><td>10280.17</td><td>12423.56</td><td><b>2527.01</b></td></tr>\n",
    "    <tr><td>cogs</td><td>1289.91</td><td>3164.79</td><td>7859.76</td><td>9184.32</td><td><b>1874.88</b></td></tr>\n",
    "    <tr><td>lt</td><td>1422.23</td><td>3257.62</td><td>7183.55</td><td>11046.66</td><td><b>1835.39</b></td></tr>\n",
    "    <tr><td>ceq</td><td>878.45</td><td>2193.05</td><td>4980.30</td><td>11823.32</td><td><b>1314.60</b></td></tr>\n",
    "    <tr><td>ppegt</td><td>1694.77</td><td>2973.57</td><td>10250.21</td><td>17033.71</td><td><b>1278.80</b></td></tr>\n",
    "    <tr><td>act</td><td>731.04</td><td>1762.24</td><td>3733.45</td><td>5047.02</td><td><b>1031.20</b></td></tr>\n",
    "    <tr><td>lct</td><td>560.99</td><td>1338.30</td><td>3150.61</td><td>3771.98</td><td><b>777.31</b></td></tr>\n",
    "    <tr><td>dltt</td><td>533.35</td><td>1294.28</td><td>2634.17</td><td>5258.41</td><td><b>760.93</b></td></tr>\n",
    "    <tr><td>rect</td><td>265.89</td><td>681.11</td><td>1574.37</td><td>1972.77</td><td><b>415.23</b></td></tr>\n",
    "  </tbody>\n",
    "</table>\n",
    "\n",
    "<br>These features show the largest shifts in average value between fraud and non-fraud cases. They’re strong candidates for early importance testing or inclusion in baseline models.\n",
    "\n",
    "</div>\n",
    "\n",
    "\n"
   ]
  },
  {
   "cell_type": "code",
   "execution_count": null,
   "id": "273648ae-fb72-4931-927f-4d42b139b551",
   "metadata": {},
   "outputs": [],
   "source": [
    "# Save full cleaned DataFrame\n",
    "\n",
    "# Define base path\n",
    "datapath = \"../data\"\n",
    "\n",
    "# Save full cleaned DataFrame\n",
    "fraud_data_cleaned.to_csv(os.path.join(datapath, \"fraud_data_eda.csv\"), index=False)"
   ]
  },
  {
   "cell_type": "code",
   "execution_count": null,
   "id": "a493ac06-cd1e-4173-8bd0-70aa65facc9f",
   "metadata": {},
   "outputs": [],
   "source": [
    "#Stop the timer to check the execution time of the notebook.\n",
    "end_time = time.time()\n",
    "print(f\"Total execution time: {round(end_time - start_time, 2)} seconds\")"
   ]
  },
  {
   "cell_type": "markdown",
   "id": "cde9d927-73ef-44a3-88c1-7414c620b0c1",
   "metadata": {
    "execution": {
     "iopub.execute_input": "2025-05-17T19:16:47.122279Z",
     "iopub.status.busy": "2025-05-17T19:16:47.121403Z",
     "iopub.status.idle": "2025-05-17T19:16:47.135814Z",
     "shell.execute_reply": "2025-05-17T19:16:47.134519Z",
     "shell.execute_reply.started": "2025-05-17T19:16:47.122258Z"
    }
   },
   "source": [
    "<div class=\"alert alert-block alert-info\">\n",
    "\n",
    "<b>🔍 EDA Summary</b><br><br>\n",
    "\n",
    "The dataset consists exclusively of <b>structured numerical features</b> describing financial characteristics of publicly traded U.S. firms. These include raw accounting entries (e.g., <code>at</code>, <code>sale</code>, <code>ceq</code>) as well as engineered financial ratios (e.g., <code>bm</code>, <code>dpi</code>, <code>ch_roa</code>) and missingness indicators (<code>ch_cs_missing</code>, <code>ch_cm_missing</code>).\n",
    "\n",
    "<br><br>\n",
    "\n",
    "The <b>target feature for modeling is <code>misstate</code></b>, a binary variable indicating whether a firm was identified as issuing fraudulent financial statements. This variable is highly imbalanced, with fraudulent cases comprising less than 1% of the dataset — a key consideration for model development.\n",
    "\n",
    "<br><br>\n",
    "\n",
    "<b>Univariate and bivariate analysis</b> revealed several features with potential predictive value. Notably, fraudulent firms tended to have:\n",
    "<ul>\n",
    "  <li>Smaller asset bases (<code>at</code>) and lower revenues (<code>sale</code>)</li>\n",
    "  <li>Lower equity and more financial pressure (e.g., <code>ebit</code>, <code>bm</code>)</li>\n",
    "  <li>Shifts in return-based ratios such as <code>ch_roa</code> and <code>reoa</code></li>\n",
    "</ul>\n",
    "\n",
    "These findings informed our decision to retain <b>all numeric features (excluding IDs and time markers)</b> for modeling. We avoided premature feature elimination to preserve signal for upcoming model-based feature importance techniques.\n",
    "\n",
    "<br><br>\n",
    "\n",
    "<b>Important considerations going forward:</b>\n",
    "<ul>\n",
    "  <li>Several features are highly skewed and operate at different scales, which will require scaling prior to training.</li>\n",
    "  <li>There is visible collinearity among raw financials (e.g., <code>at</code>, <code>lt</code>, <code>sale</code>), so regularization and correlation-aware feature selection will be necessary.</li>\n",
    "</ul>\n",
    "\n",
    "<br>\n",
    "With a clear understanding of feature distributions, target imbalance, and inter-feature relationships, the dataset is now ready for transformation and model training.\n",
    "\n",
    "</div>\n"
   ]
  },
  {
   "cell_type": "markdown",
   "id": "4a81d182-db4f-49ca-b498-6685a3f5e4c7",
   "metadata": {},
   "source": []
  }
 ],
 "metadata": {
  "kernelspec": {
   "display_name": "Python 3 (ipykernel)",
   "language": "python",
   "name": "python3"
  },
  "language_info": {
   "codemirror_mode": {
    "name": "ipython",
    "version": 3
   },
   "file_extension": ".py",
   "mimetype": "text/x-python",
   "name": "python",
   "nbconvert_exporter": "python",
   "pygments_lexer": "ipython3",
   "version": "3.13.1"
  }
 },
 "nbformat": 4,
 "nbformat_minor": 5
}
