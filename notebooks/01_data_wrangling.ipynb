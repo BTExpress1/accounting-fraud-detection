{
 "cells": [
  {
   "cell_type": "markdown",
   "id": "32aedf45-cda2-4052-a096-1db496cb8f9d",
   "metadata": {},
   "source": [
    "<div class=\"alert alert-block alert-info\" align=center><h1>Accounting Fraud Detection Data Wrangling</h1></div>"
   ]
  },
  {
   "cell_type": "markdown",
   "id": "89a697d8-505a-4a8b-bc46-78684c2daa90",
   "metadata": {},
   "source": [
    "<div class=\"alert alert-block alert-info\"><b>We are going to look at a dataset from a 2020 FraudDetection GitHub repository. </b></div>"
   ]
  },
  {
   "cell_type": "markdown",
   "id": "1fe43f86-b88a-458c-b2bd-bf7a0ab57914",
   "metadata": {},
   "source": [
    "## <div class=\"alert alert-block alert-info\" ><h1>Imports</h1></div>"
   ]
  },
  {
   "cell_type": "code",
   "execution_count": 1,
   "id": "764a5ab6-ce3d-4392-9a8b-3f68304b6ba3",
   "metadata": {
    "execution": {
     "iopub.execute_input": "2025-05-17T06:34:49.846127Z",
     "iopub.status.busy": "2025-05-17T06:34:49.845785Z",
     "iopub.status.idle": "2025-05-17T06:34:49.848918Z",
     "shell.execute_reply": "2025-05-17T06:34:49.848477Z",
     "shell.execute_reply.started": "2025-05-17T06:34:49.846109Z"
    }
   },
   "outputs": [],
   "source": [
    "#!pip install --upgrade scikit-learn"
   ]
  },
  {
   "cell_type": "code",
   "execution_count": 2,
   "id": "389c393b-fcfc-49a9-82a6-cd465a9c6cee",
   "metadata": {
    "execution": {
     "iopub.execute_input": "2025-05-17T06:34:49.850048Z",
     "iopub.status.busy": "2025-05-17T06:34:49.849693Z",
     "iopub.status.idle": "2025-05-17T06:34:51.071831Z",
     "shell.execute_reply": "2025-05-17T06:34:51.070973Z",
     "shell.execute_reply.started": "2025-05-17T06:34:49.850033Z"
    }
   },
   "outputs": [],
   "source": [
    "import pandas as pd\n",
    "import matplotlib.pyplot as plt\n",
    "import seaborn as sns\n",
    "import numpy as np\n",
    "import time\n",
    "import os\n",
    "from sklearn.feature_selection import VarianceThreshold\n",
    "from sklearn.experimental import enable_iterative_imputer\n",
    "from sklearn.impute import KNNImputer, SimpleImputer, IterativeImputer\n",
    "\n",
    "\n",
    "\n",
    "#Start a timer to check the execution time of the notebook.\n",
    "start_time = time.time()"
   ]
  },
  {
   "cell_type": "markdown",
   "id": "1a4b872a-9b58-438b-af0c-e487fcbc78a9",
   "metadata": {},
   "source": [
    "## <div class=\"alert alert-block alert-info\" ><h1>Function Definitions</h1></div>"
   ]
  },
  {
   "cell_type": "code",
   "execution_count": 3,
   "id": "abe4df03-bb93-4198-aa86-949407be659c",
   "metadata": {
    "execution": {
     "iopub.execute_input": "2025-05-17T06:34:51.072856Z",
     "iopub.status.busy": "2025-05-17T06:34:51.072645Z",
     "iopub.status.idle": "2025-05-17T06:34:51.076724Z",
     "shell.execute_reply": "2025-05-17T06:34:51.075975Z",
     "shell.execute_reply.started": "2025-05-17T06:34:51.072844Z"
    }
   },
   "outputs": [],
   "source": [
    "def plot_fraud_scatter(data, x_feat, y_feat, \n",
    "                       hue_col='misstate',\n",
    "                       palette={0: 'red', 1: 'blue'}):  #palette={0: '#66c2a5', 1: '#fc8d62'})\n",
    "    \"\"\"\n",
    "    Plots a colorblind-safe scatterplot of two features with fraud highlighting.\n",
    "\n",
    "    Parameters:\n",
    "    - data: pandas DataFrame\n",
    "    - x_feat: str, feature name for x-axis\n",
    "    - y_feat: str, feature name for y-axis\n",
    "    - hue_col: str, column to color by (default='misstate')\n",
    "    - palette: dict, color mapping for hue values\n",
    "    \"\"\"\n",
    "    plt.figure(figsize=(8, 6))\n",
    "    # Plot non-fraud (assumed 0)\n",
    "    sns.scatterplot(\n",
    "        data=data[data[hue_col] == 0],\n",
    "        x=x_feat,\n",
    "        y=y_feat,\n",
    "        label='Non-Fraud',\n",
    "        color=palette[0],\n",
    "        alpha=0.2,\n",
    "        s=10\n",
    "    )\n",
    "\n",
    "    # Plot fraud (assumed 1)\n",
    "    sns.scatterplot(\n",
    "        data=data[data[hue_col] == 1],\n",
    "        x=x_feat,\n",
    "        y=y_feat,\n",
    "        label='Fraud',\n",
    "        color=palette[1],\n",
    "        alpha=0.8,\n",
    "        s=30\n",
    "    )\n",
    "    plt.title(f'Fraud vs Non-Fraud: {x_feat} vs {y_feat}')\n",
    "    plt.legend(title=hue_col, bbox_to_anchor=(1.05, 1), loc='upper left')\n",
    "    plt.tight_layout()\n",
    "    plt.show()\n"
   ]
  },
  {
   "cell_type": "code",
   "execution_count": 4,
   "id": "71b69b3d-1b16-436e-8952-60381b6d30a1",
   "metadata": {
    "execution": {
     "iopub.execute_input": "2025-05-17T06:34:51.077946Z",
     "iopub.status.busy": "2025-05-17T06:34:51.077446Z",
     "iopub.status.idle": "2025-05-17T06:34:51.085659Z",
     "shell.execute_reply": "2025-05-17T06:34:51.084409Z",
     "shell.execute_reply.started": "2025-05-17T06:34:51.077932Z"
    }
   },
   "outputs": [],
   "source": [
    "def plot_fraud_pairplot(data, features, hue_col='misstate', palette={0: '#66c2a5', 1: '#fc8d62'}):\n",
    "    \"\"\"\n",
    "    Plots a Seaborn pairplot for selected features, highlighting fraud cases.\n",
    "\n",
    "    Parameters:\n",
    "    - data: pandas DataFrame\n",
    "    - features: list of str, feature names to plot\n",
    "    - hue_col: column to color by (default='misstate')\n",
    "    - palette: dict, color mapping for hue values\n",
    "    \"\"\"\n",
    "    sns.pairplot(\n",
    "        data=data[features + [hue_col]],\n",
    "        hue=hue_col,\n",
    "        palette=palette,\n",
    "        plot_kws={'alpha': 0.4, 's': 20},\n",
    "        diag_kws={'fill': True},\n",
    "        corner=True\n",
    "    )\n",
    "    plt.suptitle('Fraud Pairwise Feature Patterns', y=1.02)\n",
    "    plt.show()\n",
    "\n"
   ]
  },
  {
   "cell_type": "code",
   "execution_count": 5,
   "id": "66c5bed4-4acd-4ba0-89e5-3b5f9c81a20b",
   "metadata": {
    "execution": {
     "iopub.execute_input": "2025-05-17T06:34:51.088347Z",
     "iopub.status.busy": "2025-05-17T06:34:51.087731Z",
     "iopub.status.idle": "2025-05-17T06:34:51.097322Z",
     "shell.execute_reply": "2025-05-17T06:34:51.096512Z",
     "shell.execute_reply.started": "2025-05-17T06:34:51.088324Z"
    }
   },
   "outputs": [],
   "source": [
    "def custom_fraud_pairplot(data, features, hue_col='misstate',\n",
    "                          palette={0: '#66c2a5', 1: '#fc8d62'},\n",
    "                          alpha_map={0: 0.2, 1: 0.8},\n",
    "                          size_map={0: 10, 1: 30}):\n",
    "    \"\"\"\n",
    "    Custom pairplot using matplotlib to support different alpha and size per class.\n",
    "\n",
    "    Parameters:\n",
    "    - data: pandas DataFrame\n",
    "    - features: list of 2 or 3 feature names\n",
    "    - hue_col: column with class label (default: 'misstate')\n",
    "    - palette: dict mapping class to color\n",
    "    - alpha_map: dict mapping class to alpha\n",
    "    - size_map: dict mapping class to marker size\n",
    "    \"\"\"\n",
    "    n = len(features)\n",
    "    fig, axes = plt.subplots(n, n, figsize=(4 * n, 4 * n))\n",
    "\n",
    "    for i, xi in enumerate(features):\n",
    "        for j, yj in enumerate(features):\n",
    "            ax = axes[i, j]\n",
    "\n",
    "            if i < j:\n",
    "                ax.axis(\"off\")            \n",
    "                continue\n",
    "            elif i == j:\n",
    "                for cls in data[hue_col].unique():\n",
    "                    subset = data[data[hue_col] == cls]\n",
    "                    sns.kdeplot(\n",
    "                        subset[features[i]],\n",
    "                        ax=ax,\n",
    "                        label=f'{hue_col}={cls}' if i == 0 else \"\",\n",
    "                        color=palette[cls],\n",
    "                        alpha=alpha_map[cls],\n",
    "                        linewidth=2,\n",
    "                        fill=True\n",
    "                    )\n",
    "            \n",
    "                ax.set_ylabel(\"Density\")\n",
    "                ax.set_xlabel(features[i])\n",
    "            #continue\n",
    "            else:\n",
    "\n",
    "                for cls in data[hue_col].unique():\n",
    "                    subset = data[data[hue_col] == cls]\n",
    "                    ax.scatter(\n",
    "                        subset[yj], subset[xi],\n",
    "                        label=f'{hue_col}={cls}' if (i == n - 1 and j == 0) else \"\",\n",
    "                        alpha=alpha_map[cls],\n",
    "                        c=palette[cls],\n",
    "                        s=size_map[cls]\n",
    "                    )\n",
    "\n",
    "                if i == n - 1:\n",
    "                    ax.set_xlabel(yj)\n",
    "                else:\n",
    "                    ax.set_xlabel(\"\")\n",
    "\n",
    "                if j == 0:\n",
    "                    ax.set_ylabel(xi)\n",
    "                else:\n",
    "                    ax.set_ylabel(\"\")\n",
    "\n",
    "    handles, labels = ax.get_legend_handles_labels()\n",
    "    fig.legend(handles, labels, title=hue_col, bbox_to_anchor=(1.02, 1), loc='upper left')\n",
    "    fig.suptitle(\"Fraud vs Non-Fraud — Custom Pairplot\", y=1.02)\n",
    "    plt.tight_layout()\n",
    "    plt.show()\n"
   ]
  },
  {
   "cell_type": "markdown",
   "id": "1526a06f-55eb-444c-bf01-fa09a57bb9f7",
   "metadata": {},
   "source": [
    "## <div class=\"alert alert-info\"><h1>Load the Data</h1></div>"
   ]
  },
  {
   "cell_type": "code",
   "execution_count": 6,
   "id": "2fac8da1-969d-458f-bf7c-f7b9bddc8751",
   "metadata": {
    "execution": {
     "iopub.execute_input": "2025-05-17T06:34:51.098577Z",
     "iopub.status.busy": "2025-05-17T06:34:51.098234Z",
     "iopub.status.idle": "2025-05-17T06:34:51.677614Z",
     "shell.execute_reply": "2025-05-17T06:34:51.676498Z",
     "shell.execute_reply.started": "2025-05-17T06:34:51.098561Z"
    }
   },
   "outputs": [],
   "source": [
    "datapath = \"../data/raw//data_FraudDetection_JAR2020.csv\"\n",
    "fraud_data = pd.read_csv(datapath)"
   ]
  },
  {
   "cell_type": "markdown",
   "id": "80018b93-d237-4d2a-8afe-f3ee0fcf930d",
   "metadata": {},
   "source": [
    "<div class=\"alert alert-block alert-info\"><b>We are going to look into the details of our data.</b><br><br>\n",
    "This includes info, describe(), shape, checking for nulls, and more</div>"
   ]
  },
  {
   "cell_type": "code",
   "execution_count": 7,
   "id": "3453280b-a866-466b-b34f-28e09137ba74",
   "metadata": {
    "execution": {
     "iopub.execute_input": "2025-05-17T06:34:51.679752Z",
     "iopub.status.busy": "2025-05-17T06:34:51.679120Z",
     "iopub.status.idle": "2025-05-17T06:34:51.701861Z",
     "shell.execute_reply": "2025-05-17T06:34:51.701366Z",
     "shell.execute_reply.started": "2025-05-17T06:34:51.679739Z"
    }
   },
   "outputs": [
    {
     "data": {
      "text/plain": [
       "<bound method DataFrame.info of         fyear   gvkey  p_aaer  misstate       act       ap        at  \\\n",
       "0        1990    1009     NaN         0    10.047    3.736    32.335   \n",
       "1        1990    1011     NaN         0     1.247    0.803     7.784   \n",
       "2        1990    1017     NaN         0    55.040    3.601   118.120   \n",
       "3        1990    1021     NaN         0    24.684    3.948    34.591   \n",
       "4        1990    1028     NaN         0    17.325    3.520    27.542   \n",
       "...       ...     ...     ...       ...       ...      ...       ...   \n",
       "146040   2014  314866     NaN         0   262.600   12.400  1234.800   \n",
       "146041   2014  315318     NaN         0  1578.400  106.700  4557.600   \n",
       "146042   2014  316056     NaN         0   973.800  249.500  2015.900   \n",
       "146043   2014  317260     NaN         0    51.743    1.555   322.421   \n",
       "146044   2014  317264     NaN         0   233.211    5.224  1099.101   \n",
       "\n",
       "             ceq      che      cogs  ...  soft_assets     ch_cs     ch_cm  \\\n",
       "0          6.262    0.002    30.633  ...     0.312448  0.095082  0.082631   \n",
       "1          0.667    0.171     1.125  ...     0.315904  0.188832 -0.211389   \n",
       "2         44.393    3.132   107.343  ...     0.605342  0.097551 -0.105780   \n",
       "3          7.751    0.411    31.214  ...     0.793068 -0.005725 -0.249704   \n",
       "4        -12.142    1.017    32.662  ...     0.869182 -0.231536 -1.674893   \n",
       "...          ...      ...       ...  ...          ...       ...       ...   \n",
       "146040   194.100  166.200   214.400  ...     0.751944  0.560406  0.127217   \n",
       "146041  2459.600  997.300   324.400  ...     0.742781 -0.118178  0.031360   \n",
       "146042    -4.800  290.500  1185.500  ...     0.751129  0.004207 -0.037925   \n",
       "146043   319.230   46.398    24.319  ...     0.018001       NaN       NaN   \n",
       "146044   873.214  204.821    43.338  ...     0.068841  1.684618 -0.094348   \n",
       "\n",
       "          ch_roa  issue        bm       dpi      reoa      EBIT    ch_fcf  \n",
       "0      -0.019761      1  0.413170  0.873555  0.167620  0.161961 -0.042140  \n",
       "1      -0.117832      1  0.157887  0.745139 -0.428957 -0.157888  0.100228  \n",
       "2       0.091206      1  2.231337  1.015131  0.394768  0.063681  0.066348  \n",
       "3       0.017545      1  1.043582  1.026261  0.094822  0.088347 -0.017358  \n",
       "4      -0.466667      0 -1.602508  0.598443 -0.942379 -0.700821  0.130349  \n",
       "...          ...    ...       ...       ...       ...       ...       ...  \n",
       "146040 -0.050591      1  0.103693  0.829680 -0.327178 -0.008179 -0.261606  \n",
       "146041  0.095355      1  0.581796  0.743084 -0.077826  0.000461 -0.296702  \n",
       "146042  0.072050      1 -0.000903  1.063878 -0.002877  0.153133  0.065569  \n",
       "146043       NaN      1  1.109467       NaN  0.000000  0.028804       NaN  \n",
       "146044  0.020573      1  1.154308  0.745399  0.025562  0.026433 -0.240183  \n",
       "\n",
       "[146045 rows x 46 columns]>"
      ]
     },
     "execution_count": 7,
     "metadata": {},
     "output_type": "execute_result"
    }
   ],
   "source": [
    "fraud_data.info"
   ]
  },
  {
   "cell_type": "code",
   "execution_count": 8,
   "id": "b0f0851c-4eed-4e7a-a4fd-099eae2c623e",
   "metadata": {
    "execution": {
     "iopub.execute_input": "2025-05-17T06:34:51.702541Z",
     "iopub.status.busy": "2025-05-17T06:34:51.702244Z",
     "iopub.status.idle": "2025-05-17T06:34:51.706654Z",
     "shell.execute_reply": "2025-05-17T06:34:51.705784Z",
     "shell.execute_reply.started": "2025-05-17T06:34:51.702526Z"
    }
   },
   "outputs": [
    {
     "data": {
      "text/plain": [
       "Index(['fyear', 'gvkey', 'p_aaer', 'misstate', 'act', 'ap', 'at', 'ceq', 'che',\n",
       "       'cogs', 'csho', 'dlc', 'dltis', 'dltt', 'dp', 'ib', 'invt', 'ivao',\n",
       "       'ivst', 'lct', 'lt', 'ni', 'ppegt', 'pstk', 're', 'rect', 'sale',\n",
       "       'sstk', 'txp', 'txt', 'xint', 'prcc_f', 'dch_wc', 'ch_rsst', 'dch_rec',\n",
       "       'dch_inv', 'soft_assets', 'ch_cs', 'ch_cm', 'ch_roa', 'issue', 'bm',\n",
       "       'dpi', 'reoa', 'EBIT', 'ch_fcf'],\n",
       "      dtype='object')"
      ]
     },
     "execution_count": 8,
     "metadata": {},
     "output_type": "execute_result"
    }
   ],
   "source": [
    "#To start building a code book, let's examine column names\n",
    "fraud_data.columns"
   ]
  },
  {
   "cell_type": "code",
   "execution_count": 9,
   "id": "5bcf594a-1f74-4278-82b7-34dbeed3f3b1",
   "metadata": {
    "execution": {
     "iopub.execute_input": "2025-05-17T06:34:51.707389Z",
     "iopub.status.busy": "2025-05-17T06:34:51.707186Z",
     "iopub.status.idle": "2025-05-17T06:34:51.710871Z",
     "shell.execute_reply": "2025-05-17T06:34:51.710130Z",
     "shell.execute_reply.started": "2025-05-17T06:34:51.707376Z"
    }
   },
   "outputs": [],
   "source": [
    "fraud_data.columns = fraud_data.columns.str.lower()"
   ]
  },
  {
   "cell_type": "code",
   "execution_count": 10,
   "id": "23d5ab57-eb34-4e69-98f1-d24552cdaba6",
   "metadata": {
    "execution": {
     "iopub.execute_input": "2025-05-17T06:34:51.711891Z",
     "iopub.status.busy": "2025-05-17T06:34:51.711593Z",
     "iopub.status.idle": "2025-05-17T06:34:52.006938Z",
     "shell.execute_reply": "2025-05-17T06:34:52.006369Z",
     "shell.execute_reply.started": "2025-05-17T06:34:51.711869Z"
    }
   },
   "outputs": [
    {
     "data": {
      "text/html": [
       "<div>\n",
       "<style scoped>\n",
       "    .dataframe tbody tr th:only-of-type {\n",
       "        vertical-align: middle;\n",
       "    }\n",
       "\n",
       "    .dataframe tbody tr th {\n",
       "        vertical-align: top;\n",
       "    }\n",
       "\n",
       "    .dataframe thead th {\n",
       "        text-align: right;\n",
       "    }\n",
       "</style>\n",
       "<table border=\"1\" class=\"dataframe\">\n",
       "  <thead>\n",
       "    <tr style=\"text-align: right;\">\n",
       "      <th></th>\n",
       "      <th>fyear</th>\n",
       "      <th>gvkey</th>\n",
       "      <th>p_aaer</th>\n",
       "      <th>misstate</th>\n",
       "      <th>act</th>\n",
       "      <th>ap</th>\n",
       "      <th>at</th>\n",
       "      <th>ceq</th>\n",
       "      <th>che</th>\n",
       "      <th>cogs</th>\n",
       "      <th>...</th>\n",
       "      <th>soft_assets</th>\n",
       "      <th>ch_cs</th>\n",
       "      <th>ch_cm</th>\n",
       "      <th>ch_roa</th>\n",
       "      <th>issue</th>\n",
       "      <th>bm</th>\n",
       "      <th>dpi</th>\n",
       "      <th>reoa</th>\n",
       "      <th>ebit</th>\n",
       "      <th>ch_fcf</th>\n",
       "    </tr>\n",
       "  </thead>\n",
       "  <tbody>\n",
       "    <tr>\n",
       "      <th>count</th>\n",
       "      <td>146045.000000</td>\n",
       "      <td>146045.000000</td>\n",
       "      <td>964.000000</td>\n",
       "      <td>146045.000000</td>\n",
       "      <td>146045.000000</td>\n",
       "      <td>146045.000000</td>\n",
       "      <td>146045.000000</td>\n",
       "      <td>146045.000000</td>\n",
       "      <td>146045.000000</td>\n",
       "      <td>146045.000000</td>\n",
       "      <td>...</td>\n",
       "      <td>145453.000000</td>\n",
       "      <td>130127.000000</td>\n",
       "      <td>128938.000000</td>\n",
       "      <td>133367.000000</td>\n",
       "      <td>146045.000000</td>\n",
       "      <td>146027.000000</td>\n",
       "      <td>136817.000000</td>\n",
       "      <td>145454.000000</td>\n",
       "      <td>145454.000000</td>\n",
       "      <td>140638.000000</td>\n",
       "    </tr>\n",
       "    <tr>\n",
       "      <th>mean</th>\n",
       "      <td>2002.011702</td>\n",
       "      <td>54243.435516</td>\n",
       "      <td>2503.840249</td>\n",
       "      <td>0.006601</td>\n",
       "      <td>737.847759</td>\n",
       "      <td>181.993488</td>\n",
       "      <td>2374.041576</td>\n",
       "      <td>887.126243</td>\n",
       "      <td>218.657186</td>\n",
       "      <td>1302.280756</td>\n",
       "      <td>...</td>\n",
       "      <td>0.499790</td>\n",
       "      <td>0.185169</td>\n",
       "      <td>-0.090980</td>\n",
       "      <td>-0.010208</td>\n",
       "      <td>0.863487</td>\n",
       "      <td>0.466137</td>\n",
       "      <td>1.042207</td>\n",
       "      <td>-3.191197</td>\n",
       "      <td>-0.238754</td>\n",
       "      <td>-0.008842</td>\n",
       "    </tr>\n",
       "    <tr>\n",
       "      <th>std</th>\n",
       "      <td>6.959894</td>\n",
       "      <td>59937.455765</td>\n",
       "      <td>912.093250</td>\n",
       "      <td>0.080976</td>\n",
       "      <td>3744.542368</td>\n",
       "      <td>1047.546104</td>\n",
       "      <td>11957.736980</td>\n",
       "      <td>5056.948150</td>\n",
       "      <td>1330.490185</td>\n",
       "      <td>7870.665783</td>\n",
       "      <td>...</td>\n",
       "      <td>0.274129</td>\n",
       "      <td>1.383354</td>\n",
       "      <td>2.844807</td>\n",
       "      <td>0.379574</td>\n",
       "      <td>0.343333</td>\n",
       "      <td>1.314661</td>\n",
       "      <td>0.495286</td>\n",
       "      <td>12.932219</td>\n",
       "      <td>1.059134</td>\n",
       "      <td>0.548216</td>\n",
       "    </tr>\n",
       "    <tr>\n",
       "      <th>min</th>\n",
       "      <td>1990.000000</td>\n",
       "      <td>1004.000000</td>\n",
       "      <td>371.000000</td>\n",
       "      <td>0.000000</td>\n",
       "      <td>-0.254000</td>\n",
       "      <td>0.000000</td>\n",
       "      <td>0.000000</td>\n",
       "      <td>-25560.000000</td>\n",
       "      <td>-34.000000</td>\n",
       "      <td>-366.645000</td>\n",
       "      <td>...</td>\n",
       "      <td>0.004515</td>\n",
       "      <td>-6.484197</td>\n",
       "      <td>-17.359699</td>\n",
       "      <td>-1.671565</td>\n",
       "      <td>0.000000</td>\n",
       "      <td>-7.034304</td>\n",
       "      <td>0.151757</td>\n",
       "      <td>-89.013245</td>\n",
       "      <td>-7.016393</td>\n",
       "      <td>-2.980601</td>\n",
       "    </tr>\n",
       "    <tr>\n",
       "      <th>25%</th>\n",
       "      <td>1996.000000</td>\n",
       "      <td>10658.000000</td>\n",
       "      <td>1803.000000</td>\n",
       "      <td>0.000000</td>\n",
       "      <td>8.277000</td>\n",
       "      <td>1.151000</td>\n",
       "      <td>18.281000</td>\n",
       "      <td>6.337000</td>\n",
       "      <td>1.144000</td>\n",
       "      <td>6.795000</td>\n",
       "      <td>...</td>\n",
       "      <td>0.270023</td>\n",
       "      <td>-0.073635</td>\n",
       "      <td>-0.260164</td>\n",
       "      <td>-0.058635</td>\n",
       "      <td>1.000000</td>\n",
       "      <td>0.191546</td>\n",
       "      <td>0.854248</td>\n",
       "      <td>-0.894633</td>\n",
       "      <td>-0.128135</td>\n",
       "      <td>-0.123402</td>\n",
       "    </tr>\n",
       "    <tr>\n",
       "      <th>50%</th>\n",
       "      <td>2002.000000</td>\n",
       "      <td>25088.000000</td>\n",
       "      <td>2620.500000</td>\n",
       "      <td>0.000000</td>\n",
       "      <td>47.501000</td>\n",
       "      <td>6.462000</td>\n",
       "      <td>105.346000</td>\n",
       "      <td>47.308000</td>\n",
       "      <td>9.373000</td>\n",
       "      <td>53.382000</td>\n",
       "      <td>...</td>\n",
       "      <td>0.524640</td>\n",
       "      <td>0.067918</td>\n",
       "      <td>-0.023205</td>\n",
       "      <td>-0.001893</td>\n",
       "      <td>1.000000</td>\n",
       "      <td>0.442172</td>\n",
       "      <td>0.974302</td>\n",
       "      <td>-0.008046</td>\n",
       "      <td>0.043701</td>\n",
       "      <td>-0.026155</td>\n",
       "    </tr>\n",
       "    <tr>\n",
       "      <th>75%</th>\n",
       "      <td>2008.000000</td>\n",
       "      <td>66586.000000</td>\n",
       "      <td>3180.000000</td>\n",
       "      <td>0.000000</td>\n",
       "      <td>249.832000</td>\n",
       "      <td>42.259000</td>\n",
       "      <td>672.929000</td>\n",
       "      <td>271.547000</td>\n",
       "      <td>60.286000</td>\n",
       "      <td>372.730000</td>\n",
       "      <td>...</td>\n",
       "      <td>0.726663</td>\n",
       "      <td>0.250237</td>\n",
       "      <td>0.139960</td>\n",
       "      <td>0.042188</td>\n",
       "      <td>1.000000</td>\n",
       "      <td>0.805320</td>\n",
       "      <td>1.097582</td>\n",
       "      <td>0.229724</td>\n",
       "      <td>0.108059</td>\n",
       "      <td>0.062294</td>\n",
       "    </tr>\n",
       "    <tr>\n",
       "      <th>max</th>\n",
       "      <td>2014.000000</td>\n",
       "      <td>317264.000000</td>\n",
       "      <td>3996.000000</td>\n",
       "      <td>1.000000</td>\n",
       "      <td>152629.000000</td>\n",
       "      <td>39903.000000</td>\n",
       "      <td>410074.000000</td>\n",
       "      <td>284434.000000</td>\n",
       "      <td>85709.000000</td>\n",
       "      <td>435726.253000</td>\n",
       "      <td>...</td>\n",
       "      <td>0.993599</td>\n",
       "      <td>9.600000</td>\n",
       "      <td>16.573810</td>\n",
       "      <td>1.621628</td>\n",
       "      <td>1.000000</td>\n",
       "      <td>4.937457</td>\n",
       "      <td>4.036458</td>\n",
       "      <td>0.784573</td>\n",
       "      <td>0.550619</td>\n",
       "      <td>4.061810</td>\n",
       "    </tr>\n",
       "  </tbody>\n",
       "</table>\n",
       "<p>8 rows × 46 columns</p>\n",
       "</div>"
      ],
      "text/plain": [
       "               fyear          gvkey       p_aaer       misstate  \\\n",
       "count  146045.000000  146045.000000   964.000000  146045.000000   \n",
       "mean     2002.011702   54243.435516  2503.840249       0.006601   \n",
       "std         6.959894   59937.455765   912.093250       0.080976   \n",
       "min      1990.000000    1004.000000   371.000000       0.000000   \n",
       "25%      1996.000000   10658.000000  1803.000000       0.000000   \n",
       "50%      2002.000000   25088.000000  2620.500000       0.000000   \n",
       "75%      2008.000000   66586.000000  3180.000000       0.000000   \n",
       "max      2014.000000  317264.000000  3996.000000       1.000000   \n",
       "\n",
       "                 act             ap             at            ceq  \\\n",
       "count  146045.000000  146045.000000  146045.000000  146045.000000   \n",
       "mean      737.847759     181.993488    2374.041576     887.126243   \n",
       "std      3744.542368    1047.546104   11957.736980    5056.948150   \n",
       "min        -0.254000       0.000000       0.000000  -25560.000000   \n",
       "25%         8.277000       1.151000      18.281000       6.337000   \n",
       "50%        47.501000       6.462000     105.346000      47.308000   \n",
       "75%       249.832000      42.259000     672.929000     271.547000   \n",
       "max    152629.000000   39903.000000  410074.000000  284434.000000   \n",
       "\n",
       "                 che           cogs  ...    soft_assets          ch_cs  \\\n",
       "count  146045.000000  146045.000000  ...  145453.000000  130127.000000   \n",
       "mean      218.657186    1302.280756  ...       0.499790       0.185169   \n",
       "std      1330.490185    7870.665783  ...       0.274129       1.383354   \n",
       "min       -34.000000    -366.645000  ...       0.004515      -6.484197   \n",
       "25%         1.144000       6.795000  ...       0.270023      -0.073635   \n",
       "50%         9.373000      53.382000  ...       0.524640       0.067918   \n",
       "75%        60.286000     372.730000  ...       0.726663       0.250237   \n",
       "max     85709.000000  435726.253000  ...       0.993599       9.600000   \n",
       "\n",
       "               ch_cm         ch_roa          issue             bm  \\\n",
       "count  128938.000000  133367.000000  146045.000000  146027.000000   \n",
       "mean       -0.090980      -0.010208       0.863487       0.466137   \n",
       "std         2.844807       0.379574       0.343333       1.314661   \n",
       "min       -17.359699      -1.671565       0.000000      -7.034304   \n",
       "25%        -0.260164      -0.058635       1.000000       0.191546   \n",
       "50%        -0.023205      -0.001893       1.000000       0.442172   \n",
       "75%         0.139960       0.042188       1.000000       0.805320   \n",
       "max        16.573810       1.621628       1.000000       4.937457   \n",
       "\n",
       "                 dpi           reoa           ebit         ch_fcf  \n",
       "count  136817.000000  145454.000000  145454.000000  140638.000000  \n",
       "mean        1.042207      -3.191197      -0.238754      -0.008842  \n",
       "std         0.495286      12.932219       1.059134       0.548216  \n",
       "min         0.151757     -89.013245      -7.016393      -2.980601  \n",
       "25%         0.854248      -0.894633      -0.128135      -0.123402  \n",
       "50%         0.974302      -0.008046       0.043701      -0.026155  \n",
       "75%         1.097582       0.229724       0.108059       0.062294  \n",
       "max         4.036458       0.784573       0.550619       4.061810  \n",
       "\n",
       "[8 rows x 46 columns]"
      ]
     },
     "execution_count": 10,
     "metadata": {},
     "output_type": "execute_result"
    }
   ],
   "source": [
    "fraud_data.describe()"
   ]
  },
  {
   "cell_type": "code",
   "execution_count": 11,
   "id": "6882c066-4edc-4a60-8a43-4cb1f80beea5",
   "metadata": {
    "execution": {
     "iopub.execute_input": "2025-05-17T06:34:52.007711Z",
     "iopub.status.busy": "2025-05-17T06:34:52.007570Z",
     "iopub.status.idle": "2025-05-17T06:34:52.010979Z",
     "shell.execute_reply": "2025-05-17T06:34:52.010574Z",
     "shell.execute_reply.started": "2025-05-17T06:34:52.007701Z"
    }
   },
   "outputs": [
    {
     "data": {
      "text/plain": [
       "(146045, 46)"
      ]
     },
     "execution_count": 11,
     "metadata": {},
     "output_type": "execute_result"
    }
   ],
   "source": [
    "fraud_data.shape"
   ]
  },
  {
   "cell_type": "code",
   "execution_count": 12,
   "id": "c0eb40a2-8111-4cbb-828d-bc0c4ef4b8b2",
   "metadata": {
    "execution": {
     "iopub.execute_input": "2025-05-17T06:34:52.011866Z",
     "iopub.status.busy": "2025-05-17T06:34:52.011453Z",
     "iopub.status.idle": "2025-05-17T06:34:52.042006Z",
     "shell.execute_reply": "2025-05-17T06:34:52.041220Z",
     "shell.execute_reply.started": "2025-05-17T06:34:52.011848Z"
    }
   },
   "outputs": [
    {
     "data": {
      "text/plain": [
       "p_aaer         145081\n",
       "dch_wc           4759\n",
       "ch_rsst          4851\n",
       "dch_rec          4743\n",
       "dch_inv          4615\n",
       "soft_assets       592\n",
       "ch_cs           15918\n",
       "ch_cm           17107\n",
       "ch_roa          12678\n",
       "bm                 18\n",
       "dpi              9228\n",
       "reoa              591\n",
       "ebit              591\n",
       "ch_fcf           5407\n",
       "dtype: int64"
      ]
     },
     "execution_count": 12,
     "metadata": {},
     "output_type": "execute_result"
    }
   ],
   "source": [
    "# Find columns with nulls\n",
    "fraud_data.isnull().sum()[fraud_data.isnull().sum() > 0]"
   ]
  },
  {
   "cell_type": "code",
   "execution_count": 13,
   "id": "e0e55e35-45c5-4501-87ce-d6d40852b165",
   "metadata": {
    "execution": {
     "iopub.execute_input": "2025-05-17T06:34:52.043659Z",
     "iopub.status.busy": "2025-05-17T06:34:52.043252Z",
     "iopub.status.idle": "2025-05-17T06:34:52.051434Z",
     "shell.execute_reply": "2025-05-17T06:34:52.050766Z",
     "shell.execute_reply.started": "2025-05-17T06:34:52.043643Z"
    }
   },
   "outputs": [
    {
     "data": {
      "text/plain": [
       "8650    371.0\n",
       "2486    389.0\n",
       "1945    395.0\n",
       "8350    473.0\n",
       "3950    473.0\n",
       "Name: p_aaer, dtype: float64"
      ]
     },
     "execution_count": 13,
     "metadata": {},
     "output_type": "execute_result"
    }
   ],
   "source": [
    "fraud_data['p_aaer'].sort_values().head()"
   ]
  },
  {
   "cell_type": "markdown",
   "id": "0dcc014f-b3ce-4aa2-886a-3b9f6623fd37",
   "metadata": {},
   "source": [
    "<div class=\"alert alert-block alert-info\">p_aaer is a flag for SEC accounting and auditing enforcement releases<br>\n",
    "The non-nulls represent AAER document IDs, not scores.<br>\n",
    "We will drop this column</div>\n"
   ]
  },
  {
   "cell_type": "code",
   "execution_count": 14,
   "id": "e8246b21-4012-4289-826e-39edbf578df6",
   "metadata": {
    "execution": {
     "iopub.execute_input": "2025-05-17T06:34:52.053330Z",
     "iopub.status.busy": "2025-05-17T06:34:52.053132Z",
     "iopub.status.idle": "2025-05-17T06:34:52.069952Z",
     "shell.execute_reply": "2025-05-17T06:34:52.069231Z",
     "shell.execute_reply.started": "2025-05-17T06:34:52.053318Z"
    }
   },
   "outputs": [],
   "source": [
    "fraud_data.drop(columns=['p_aaer'],inplace=True)"
   ]
  },
  {
   "cell_type": "code",
   "execution_count": 15,
   "id": "5da68a67-fca9-42e6-8732-cedd1a068895",
   "metadata": {
    "execution": {
     "iopub.execute_input": "2025-05-17T06:34:52.070766Z",
     "iopub.status.busy": "2025-05-17T06:34:52.070620Z",
     "iopub.status.idle": "2025-05-17T06:34:52.084965Z",
     "shell.execute_reply": "2025-05-17T06:34:52.084287Z",
     "shell.execute_reply.started": "2025-05-17T06:34:52.070757Z"
    }
   },
   "outputs": [
    {
     "data": {
      "text/html": [
       "<div>\n",
       "<style scoped>\n",
       "    .dataframe tbody tr th:only-of-type {\n",
       "        vertical-align: middle;\n",
       "    }\n",
       "\n",
       "    .dataframe tbody tr th {\n",
       "        vertical-align: top;\n",
       "    }\n",
       "\n",
       "    .dataframe thead th {\n",
       "        text-align: right;\n",
       "    }\n",
       "</style>\n",
       "<table border=\"1\" class=\"dataframe\">\n",
       "  <thead>\n",
       "    <tr style=\"text-align: right;\">\n",
       "      <th></th>\n",
       "      <th>fyear</th>\n",
       "      <th>gvkey</th>\n",
       "      <th>misstate</th>\n",
       "      <th>act</th>\n",
       "      <th>ap</th>\n",
       "      <th>at</th>\n",
       "      <th>ceq</th>\n",
       "      <th>che</th>\n",
       "      <th>cogs</th>\n",
       "      <th>csho</th>\n",
       "      <th>...</th>\n",
       "      <th>soft_assets</th>\n",
       "      <th>ch_cs</th>\n",
       "      <th>ch_cm</th>\n",
       "      <th>ch_roa</th>\n",
       "      <th>issue</th>\n",
       "      <th>bm</th>\n",
       "      <th>dpi</th>\n",
       "      <th>reoa</th>\n",
       "      <th>ebit</th>\n",
       "      <th>ch_fcf</th>\n",
       "    </tr>\n",
       "  </thead>\n",
       "  <tbody>\n",
       "    <tr>\n",
       "      <th>0</th>\n",
       "      <td>1990</td>\n",
       "      <td>1009</td>\n",
       "      <td>0</td>\n",
       "      <td>10.047</td>\n",
       "      <td>3.736</td>\n",
       "      <td>32.335</td>\n",
       "      <td>6.262</td>\n",
       "      <td>0.002</td>\n",
       "      <td>30.633</td>\n",
       "      <td>2.526</td>\n",
       "      <td>...</td>\n",
       "      <td>0.312448</td>\n",
       "      <td>0.095082</td>\n",
       "      <td>0.082631</td>\n",
       "      <td>-0.019761</td>\n",
       "      <td>1</td>\n",
       "      <td>0.413170</td>\n",
       "      <td>0.873555</td>\n",
       "      <td>0.167620</td>\n",
       "      <td>0.161961</td>\n",
       "      <td>-0.042140</td>\n",
       "    </tr>\n",
       "    <tr>\n",
       "      <th>1</th>\n",
       "      <td>1990</td>\n",
       "      <td>1011</td>\n",
       "      <td>0</td>\n",
       "      <td>1.247</td>\n",
       "      <td>0.803</td>\n",
       "      <td>7.784</td>\n",
       "      <td>0.667</td>\n",
       "      <td>0.171</td>\n",
       "      <td>1.125</td>\n",
       "      <td>3.556</td>\n",
       "      <td>...</td>\n",
       "      <td>0.315904</td>\n",
       "      <td>0.188832</td>\n",
       "      <td>-0.211389</td>\n",
       "      <td>-0.117832</td>\n",
       "      <td>1</td>\n",
       "      <td>0.157887</td>\n",
       "      <td>0.745139</td>\n",
       "      <td>-0.428957</td>\n",
       "      <td>-0.157888</td>\n",
       "      <td>0.100228</td>\n",
       "    </tr>\n",
       "    <tr>\n",
       "      <th>2</th>\n",
       "      <td>1990</td>\n",
       "      <td>1017</td>\n",
       "      <td>0</td>\n",
       "      <td>55.040</td>\n",
       "      <td>3.601</td>\n",
       "      <td>118.120</td>\n",
       "      <td>44.393</td>\n",
       "      <td>3.132</td>\n",
       "      <td>107.343</td>\n",
       "      <td>3.882</td>\n",
       "      <td>...</td>\n",
       "      <td>0.605342</td>\n",
       "      <td>0.097551</td>\n",
       "      <td>-0.105780</td>\n",
       "      <td>0.091206</td>\n",
       "      <td>1</td>\n",
       "      <td>2.231337</td>\n",
       "      <td>1.015131</td>\n",
       "      <td>0.394768</td>\n",
       "      <td>0.063681</td>\n",
       "      <td>0.066348</td>\n",
       "    </tr>\n",
       "    <tr>\n",
       "      <th>3</th>\n",
       "      <td>1990</td>\n",
       "      <td>1021</td>\n",
       "      <td>0</td>\n",
       "      <td>24.684</td>\n",
       "      <td>3.948</td>\n",
       "      <td>34.591</td>\n",
       "      <td>7.751</td>\n",
       "      <td>0.411</td>\n",
       "      <td>31.214</td>\n",
       "      <td>4.755</td>\n",
       "      <td>...</td>\n",
       "      <td>0.793068</td>\n",
       "      <td>-0.005725</td>\n",
       "      <td>-0.249704</td>\n",
       "      <td>0.017545</td>\n",
       "      <td>1</td>\n",
       "      <td>1.043582</td>\n",
       "      <td>1.026261</td>\n",
       "      <td>0.094822</td>\n",
       "      <td>0.088347</td>\n",
       "      <td>-0.017358</td>\n",
       "    </tr>\n",
       "    <tr>\n",
       "      <th>4</th>\n",
       "      <td>1990</td>\n",
       "      <td>1028</td>\n",
       "      <td>0</td>\n",
       "      <td>17.325</td>\n",
       "      <td>3.520</td>\n",
       "      <td>27.542</td>\n",
       "      <td>-12.142</td>\n",
       "      <td>1.017</td>\n",
       "      <td>32.662</td>\n",
       "      <td>6.735</td>\n",
       "      <td>...</td>\n",
       "      <td>0.869182</td>\n",
       "      <td>-0.231536</td>\n",
       "      <td>-1.674893</td>\n",
       "      <td>-0.466667</td>\n",
       "      <td>0</td>\n",
       "      <td>-1.602508</td>\n",
       "      <td>0.598443</td>\n",
       "      <td>-0.942379</td>\n",
       "      <td>-0.700821</td>\n",
       "      <td>0.130349</td>\n",
       "    </tr>\n",
       "  </tbody>\n",
       "</table>\n",
       "<p>5 rows × 45 columns</p>\n",
       "</div>"
      ],
      "text/plain": [
       "   fyear  gvkey  misstate     act     ap       at     ceq    che     cogs  \\\n",
       "0   1990   1009         0  10.047  3.736   32.335   6.262  0.002   30.633   \n",
       "1   1990   1011         0   1.247  0.803    7.784   0.667  0.171    1.125   \n",
       "2   1990   1017         0  55.040  3.601  118.120  44.393  3.132  107.343   \n",
       "3   1990   1021         0  24.684  3.948   34.591   7.751  0.411   31.214   \n",
       "4   1990   1028         0  17.325  3.520   27.542 -12.142  1.017   32.662   \n",
       "\n",
       "    csho  ...  soft_assets     ch_cs     ch_cm    ch_roa  issue        bm  \\\n",
       "0  2.526  ...     0.312448  0.095082  0.082631 -0.019761      1  0.413170   \n",
       "1  3.556  ...     0.315904  0.188832 -0.211389 -0.117832      1  0.157887   \n",
       "2  3.882  ...     0.605342  0.097551 -0.105780  0.091206      1  2.231337   \n",
       "3  4.755  ...     0.793068 -0.005725 -0.249704  0.017545      1  1.043582   \n",
       "4  6.735  ...     0.869182 -0.231536 -1.674893 -0.466667      0 -1.602508   \n",
       "\n",
       "        dpi      reoa      ebit    ch_fcf  \n",
       "0  0.873555  0.167620  0.161961 -0.042140  \n",
       "1  0.745139 -0.428957 -0.157888  0.100228  \n",
       "2  1.015131  0.394768  0.063681  0.066348  \n",
       "3  1.026261  0.094822  0.088347 -0.017358  \n",
       "4  0.598443 -0.942379 -0.700821  0.130349  \n",
       "\n",
       "[5 rows x 45 columns]"
      ]
     },
     "execution_count": 15,
     "metadata": {},
     "output_type": "execute_result"
    }
   ],
   "source": [
    "fraud_data.head()"
   ]
  },
  {
   "cell_type": "markdown",
   "id": "9e8294bd-a47e-4016-9a2d-a79c8aa09f75",
   "metadata": {},
   "source": [
    "<div class=\"alert alert-block alert-info\">We will check if there are other columns that do not add value to the work.<br>\n",
    "Using SciKit's VarianceThreshold, we will identify and drop columns with zero variance.<br>\n",
    "No columns fit this criteria, hence nothing is dropped.</div>\n"
   ]
  },
  {
   "cell_type": "code",
   "execution_count": 16,
   "id": "ec36d46f-d4b3-4d57-b799-ac0092108b5b",
   "metadata": {
    "execution": {
     "iopub.execute_input": "2025-05-17T06:34:52.085961Z",
     "iopub.status.busy": "2025-05-17T06:34:52.085691Z",
     "iopub.status.idle": "2025-05-17T06:34:52.188099Z",
     "shell.execute_reply": "2025-05-17T06:34:52.187494Z",
     "shell.execute_reply.started": "2025-05-17T06:34:52.085942Z"
    }
   },
   "outputs": [
    {
     "name": "stdout",
     "output_type": "stream",
     "text": [
      "Dropped due to zero variance: []\n"
     ]
    }
   ],
   "source": [
    "# Drop non-numeric columns (if any) before this step\n",
    "nN = fraud_data.select_dtypes(include='number')\n",
    "\n",
    "# Default threshold = 0 (removes features with the same value in all samples)\n",
    "selector = VarianceThreshold(threshold=0.0)\n",
    "selector.fit(nN)\n",
    "\n",
    "# Get the retained feature names\n",
    "retained_columns = nN.columns[selector.get_support()]\n",
    "dropped_columns = nN.columns[~selector.get_support()]\n",
    "\n",
    "print(\"Dropped due to zero variance:\", list(dropped_columns))"
   ]
  },
  {
   "cell_type": "markdown",
   "id": "9f45d238-708e-4958-b0f9-1ff89c50d6b9",
   "metadata": {},
   "source": [
    "<div class=\"alert alert-block alert-info\">Time to imputing missing values<br>\n",
    "Let's calculate the missing percentages: <br>\n",
    "\n",
    "<li>dch_wc: 4759 / 146045 = 3.26%</li>\n",
    "<li>ch_rsst: 4851 / 146045 = 3.32%</li>\n",
    "<li>dch_rec: 4743 / 146045 = 3.25%</li>\n",
    "<li>dch_inv: 4615 / 146045 = 3.16%</li>\n",
    "<li>soft_assets: 592 / 146045 = 0.41%</li>\n",
    "<li>ch_cs: 15918 / 146045 = 10.90%</li>\n",
    "<li>ch_cm: 17107 / 146045 = 11.71%</li>\n",
    "<li>ch_roa: 12678 / 146045 = 8.68%</li>\n",
    "<li>bm: 18 / 146045 = 0.01%</li>\n",
    "<li>dpi: 9228 / 146045 = 6.32%</li>\n",
    "<li>reoa: 591 / 146045 = 0.40%</li>\n",
    "<li>ebit: 591 / 146045 = 0.40%</li>\n",
    "<li>ch_fcf: 5407 / 146045 = 3.70%</li>\n",
    "<br>\n",
    "First, here is the strategy:<br> <br>\n",
    "\n",
    "Category 1: Very Low Missingness (< 1%)<br>\n",
    "<li>bm (0.01%)</li>\n",
    "<li>soft_assets (0.41%)</li>\n",
    "<li>reoa (0.40%)</li>\n",
    "<li>ebit (0.40%)</li>\n",
    "Strategy: Simple imputation like mean/median (for numerical) or mode (for categorical) <br><br>\n",
    "Category 2: Low to Moderate Missingness (1% to ~10%)<br>\n",
    "<li>dch_wc (3.26%)</li>\n",
    "<li>ch_rsst (3.32%)</li>\n",
    "<li>dch_rec (3.25%)</li>\n",
    "<li>dch_inv (3.16%)</li>\n",
    "<li>ch_fcf (3.70%)</li>\n",
    "<li>dpi (6.32%)</li>\n",
    "<li>ch_roa (8.68%)</li>\n",
    "Strategy: KNN Imputation to preserve the relationship between variables. The assumption is that missingness is random.<br>\n",
    "To be considered at a later time is Iterative Imputation (MICE)<br><br>\n",
    "Category 3: Moderate Missingness (~10% to 12%)<br>\n",
    "<li>ch_cs (10.90%)</li>\n",
    "<li>ch_cm (11.71%)</li>\n",
    "Strategy: These require more careful handling due to the higher percentage of missing data.<br>\n",
    "The initial thought is Iterative Imputation (MICE).<br>\n",
    "Could the missingness be not-at-random / intentional?\n",
    "\n",
    "</div>"
   ]
  },
  {
   "cell_type": "code",
   "execution_count": 17,
   "id": "4b83b8ed-c30a-4b6e-ad5e-b6883f6d82fe",
   "metadata": {
    "execution": {
     "iopub.execute_input": "2025-05-17T06:34:52.188918Z",
     "iopub.status.busy": "2025-05-17T06:34:52.188750Z",
     "iopub.status.idle": "2025-05-17T06:34:52.241089Z",
     "shell.execute_reply": "2025-05-17T06:34:52.240383Z",
     "shell.execute_reply.started": "2025-05-17T06:34:52.188907Z"
    }
   },
   "outputs": [],
   "source": [
    "nN_updated = nN.copy()\n",
    "\n",
    "# Columns to impute using SimpleImputer - Category 1 from the note\n",
    "simple_cols = ['bm', 'soft_assets', 'reoa', 'ebit']\n",
    "\n",
    "# Use median to reduce impact of outliers (best for financial data)\n",
    "simple_imputer = SimpleImputer(strategy='median')\n",
    "nN_simple_imputed = pd.DataFrame(\n",
    "    simple_imputer.fit_transform(nN[simple_cols]),\n",
    "    columns=simple_cols\n",
    ")\n",
    "\n",
    "# Replace in the main DataFrame\n",
    "nN_updated[simple_cols] = nN_simple_imputed\n"
   ]
  },
  {
   "cell_type": "code",
   "execution_count": null,
   "id": "17b0190b-44f5-48ab-a29a-e17d5ae32b05",
   "metadata": {
    "execution": {
     "iopub.execute_input": "2025-05-17T06:34:52.241858Z",
     "iopub.status.busy": "2025-05-17T06:34:52.241659Z"
    }
   },
   "outputs": [],
   "source": [
    "# Columns to impute using KNN - Category 2 from the note\n",
    "knn_cols = [\n",
    "    'dch_wc', 'ch_rsst', 'dch_rec', 'dch_inv',\n",
    "    'ch_fcf', 'dpi', 'ch_roa'\n",
    "]\n",
    "\n",
    "# Preserve original\n",
    "nN_knn = nN[knn_cols]\n",
    "\n",
    "# Fit KNN on just these\n",
    "imputer = KNNImputer(n_neighbors=5)\n",
    "nN_knn_imputed = pd.DataFrame(imputer.fit_transform(nN_knn), columns=knn_cols)\n",
    "\n",
    "# Replace only those columns in full frame\n",
    "nN_updated[knn_cols] = nN_knn_imputed\n"
   ]
  },
  {
   "cell_type": "markdown",
   "id": "8c5abb9e-fdbe-4c68-9a5a-e5afa937b4b6",
   "metadata": {},
   "source": [
    "<div class=\"alert alert-block alert-info\">For category 3, these are cash flow features. <br>\n",
    "Let's check if missingness is at random, related to misstate</div>\n"
   ]
  },
  {
   "cell_type": "code",
   "execution_count": null,
   "id": "81edae5f-625f-4df0-8b64-2f674516470b",
   "metadata": {},
   "outputs": [],
   "source": [
    "fraud_data['ch_cs_missing'] = fraud_data['ch_cs'].isna().astype(int)\n",
    "fraud_data.groupby('misstate')['ch_cs_missing'].mean()"
   ]
  },
  {
   "cell_type": "code",
   "execution_count": null,
   "id": "5e9e2f78-5ff3-4539-977a-46ef6a27fe65",
   "metadata": {},
   "outputs": [],
   "source": [
    "fraud_data['ch_cm_missing'] = fraud_data['ch_cm'].isna().astype(int)\n",
    "fraud_data.groupby('misstate')['ch_cm_missing'].mean()"
   ]
  },
  {
   "cell_type": "markdown",
   "id": "c67828c3-3b2e-489e-94e2-51dd8bb247a5",
   "metadata": {},
   "source": [
    "<div class=\"alert alert-block alert-info\">Missingness is not random but inversely correlated with fraud.<br>\n",
    "These two features will be imputed using IterativeImputer.<br>\n",
    "The new columns *_missing will preserve the information if the original data was null<br>\n",
    "<br>Time to Impute</div>\n"
   ]
  },
  {
   "cell_type": "code",
   "execution_count": null,
   "id": "970ce2c9-ad59-49d7-9f48-56d27f9d1243",
   "metadata": {},
   "outputs": [],
   "source": [
    "# Update fraud_data with imputed values from nN_updated for category 1 and category 2\n",
    "# List of all imputed columns (knn + simple)\n",
    "imputed_cols = list(nN_updated.columns)\n",
    "\n",
    "# Update only these columns in fraud_data, preserving flags and other features\n",
    "fraud_data[imputed_cols] = nN_updated[imputed_cols]\n"
   ]
  },
  {
   "cell_type": "code",
   "execution_count": null,
   "id": "0f566e9f-7ccb-4de6-be65-5846b52febf8",
   "metadata": {},
   "outputs": [],
   "source": [
    "# Call enable_iterative_imputer() before using IterativeImputer\n",
    "# Flag to track if enable_iterative_imputer() has been called\n",
    "iterative_imputer_enabled = False\n",
    "\n",
    "try:\n",
    "    if not iterative_imputer_enabled:\n",
    "        enable_iterative_imputer()\n",
    "        iterative_imputer_enabled = True\n",
    "except TypeError as e:\n",
    "    print(f\"TypeError encountered: {e}\")\n",
    "    print(\"It's likely that enable_iterative_imputer() has already been called.\")\n",
    "except Exception as e:\n",
    "    print(f\"An unexpected error occurred: {e}\")\n",
    "\n",
    "# Identify the columns to impute\n",
    "columns_to_impute = ['ch_cs', 'ch_cm']\n",
    "\n",
    "# Create the IterativeImputer instance\n",
    "# Can specify parameters like 'max_iter' (number of imputation rounds)\n",
    "# and 'random_state' for reproducibility.\n",
    "# Can choose a specific estimator to use for the imputation\n",
    "# (the default is BayesianRidge).\n",
    "imputer = IterativeImputer(max_iter=10, random_state=42)\n",
    "\n",
    "# Fit the imputer to fraud_data and transform the specified columns\n",
    "imputed_values = imputer.fit_transform(fraud_data[columns_to_impute])\n",
    "\n",
    "# Create a new DataFrame with the imputed values\n",
    "imputed_df = pd.DataFrame(imputed_values, columns=columns_to_impute)\n",
    "\n",
    "# Replace the original columns with the imputed ones\n",
    "fraud_data['ch_cs'] = imputed_df['ch_cs']\n",
    "fraud_data['ch_cm'] = imputed_df['ch_cm']\n",
    "\n",
    "# Verify that the missing values in these columns have been filled\n",
    "print(fraud_data[['ch_cs', 'ch_cm']].isnull().sum())"
   ]
  },
  {
   "cell_type": "code",
   "execution_count": null,
   "id": "f1019fb8-e041-4403-b25a-7816848f125b",
   "metadata": {},
   "outputs": [],
   "source": [
    "# Duple chaeck that we no loinger have any null values\n",
    "fraud_data.isnull().sum()[fraud_data.isnull().sum() > 0]"
   ]
  },
  {
   "cell_type": "code",
   "execution_count": null,
   "id": "e3d2d5d9-5b4a-4da0-8d93-a2db46031f2d",
   "metadata": {},
   "outputs": [],
   "source": [
    "fraud_data.duplicated().sum()"
   ]
  },
  {
   "cell_type": "markdown",
   "id": "3c34e135-b406-4ae6-9004-1d677ab59a5e",
   "metadata": {},
   "source": [
    "<div class=\"alert alert-block alert-info\">Now that the data is clean, let's check for some distributions and relationships</div>\n"
   ]
  },
  {
   "cell_type": "code",
   "execution_count": null,
   "id": "02d2bd21-44ee-4dd6-9b58-03d934f33f40",
   "metadata": {},
   "outputs": [],
   "source": [
    "features_to_exclude = ['fyear', 'gvkey', 'misstate', 'ch_cs_missing', 'ch_cm_missing']\n",
    "\n",
    "# Get all column names\n",
    "all_cols = fraud_data.columns.tolist()\n",
    "\n",
    "# Identify the columns to plot by excluding the ones in features_to_exclude\n",
    "features_to_plot = [col for col in all_cols if col not in features_to_exclude]\n",
    "\n",
    "# Determine the number of subplots needed\n",
    "n_features = len(features_to_plot)\n",
    "rows = (n_features + 4) // 5  \n",
    "cols = min(n_features, 5)\n",
    "\n",
    "# Create subplots\n",
    "fig, axes = plt.subplots(rows, cols, figsize=(15, 15)) #5 * rows))\n",
    "axes = axes.flatten()  # Flatten the axes array for easy indexing\n",
    "\n",
    "# Plot histograms for each feature\n",
    "for i, feature in enumerate(features_to_plot):\n",
    "    fraud_data[feature].hist(ax=axes[i], bins=20)  # You can adjust the number of bins\n",
    "    axes[i].set_title(feature)\n",
    "    axes[i].set_xlabel('')\n",
    "    axes[i].set_ylabel('Frequency')\n",
    "\n",
    "# Remove any unused subplots\n",
    "if n_features < rows * cols:\n",
    "    for j in range(n_features, rows * cols):\n",
    "        fig.delaxes(axes[j])\n",
    "\n",
    "plt.subplots_adjust(hspace=0.5)\n",
    "plt.tight_layout()\n",
    "plt.show()\n"
   ]
  },
  {
   "cell_type": "markdown",
   "id": "25114ea0-cff4-4ca3-be46-b7c35938fd04",
   "metadata": {},
   "source": [
    "<div class=\"alert alert-block alert-info\">\n",
    "<b>Here is what the distributions tell us.</b><br>\n",
    "\n",
    "<table border=\"1\" cellpadding=\"5\" cellspacing=\"0\">\n",
    "  <thead>\n",
    "    <tr>\n",
    "      <th>Features</th>\n",
    "      <th>Mean</th>\n",
    "      <th>Scaling Strategy</th>\n",
    "      <th>Notes</th>\n",
    "    </tr>\n",
    "  </thead>\n",
    "  <tbody>\n",
    "    <tr>\n",
    "      <td>act, ap, at, ceq, che, cogs, csho, dlc, dltis, dltt, dp, ib, invt, ivao, ivst, lct, lt, ni, ppegt, pstk, re, rect, sale, sstk, txp, txt, xint, prcc_f</td>\n",
    "      <td>737.85, 181.99, 2374.04, 887.13, 218.66, 1302.28, 97.00, 127.23, 201.31, 538.38, 113.28, 99.12, 167.70, 94.51, 66.78, 566.12, 1434.34, 99.67, 1703.21, 9.35, 435.90, 268.63, 1895.84, 27.66, 23.72, 55.25, 40.16</td>\n",
    "      <td>RobustScaler</td>\n",
    "      <td>Strong right skew, wide range, outliers</td>\n",
    "    </tr>\n",
    "    <tr>\n",
    "      <td>dch_wc, ch_rsst, dch_rec, dch_inv, ch_roa, dpi, ch_fcf</td>\n",
    "      <td>0.0151, -0.0051, 0.0189, 0.0135, -0.0107, 1.0438, -0.2376</td>\n",
    "      <td>StandardScaler</td>\n",
    "      <td>Centered near 0, moderate spread</td>\n",
    "    </tr>\n",
    "    <tr>\n",
    "      <td>bm, reoa, ebit</td>\n",
    "      <td>0.4661, -3.1783, -0.2376</td>\n",
    "      <td>RobustScaler or Winsorize</td>\n",
    "      <td>Skewed or extreme low-end outliers</td>\n",
    "    </tr>\n",
    "    <tr>\n",
    "      <td>soft_assets</td>\n",
    "      <td>0.4999</td>\n",
    "      <td>Leave as-is</td>\n",
    "      <td>Already scaled [0,1]</td>\n",
    "    </tr>\n",
    "    <tr>\n",
    "      <td>issue</td>\n",
    "      <td>0.8635</td>\n",
    "      <td>Leave as-is</td>\n",
    "      <td>Binary (0/1)</td>\n",
    "    </tr>\n",
    "    <tr>\n",
    "      <td>ch_cs_missing, ch_cm_missing</td>\n",
    "      <td>0.1090, 0.1171</td>\n",
    "      <td>Leave as-is</td>\n",
    "      <td>Binary flags from missing indicators</td>\n",
    "    </tr>\n",
    "  </tbody>\n",
    "</table>\n",
    "\n",
    "<br><br>Outliers in raw accounting features reflect real economic scenarios. The companies' market cap has a wide range. <br>\n",
    "Therefore, the outliers are not noise or errors. \n",
    "</div>\n",
    "\n"
   ]
  },
  {
   "cell_type": "code",
   "execution_count": null,
   "id": "d6e6b825-806e-4204-92b1-7fc2fb1d9f60",
   "metadata": {},
   "outputs": [],
   "source": [
    "plot_fraud_scatter(fraud_data,'reoa','ch_roa')"
   ]
  },
  {
   "cell_type": "code",
   "execution_count": null,
   "id": "ac7700a3-7eaf-4d53-800f-2cdb60de7d7d",
   "metadata": {},
   "outputs": [],
   "source": [
    "plot_fraud_scatter(fraud_data,'reoa','dpi')\n"
   ]
  },
  {
   "cell_type": "code",
   "execution_count": null,
   "id": "983c2bc6-c47e-4707-ae57-b4d498225ddd",
   "metadata": {},
   "outputs": [],
   "source": [
    "plot_fraud_scatter(fraud_data,'reoa','bm')"
   ]
  },
  {
   "cell_type": "code",
   "execution_count": null,
   "id": "ccb2653c-bc44-4462-84e4-d2f49d46333d",
   "metadata": {},
   "outputs": [],
   "source": [
    "plot_fraud_scatter(fraud_data,'ch_roa','dpi')"
   ]
  },
  {
   "cell_type": "code",
   "execution_count": null,
   "id": "3ed43943-bd02-4509-a99e-4cf455d996cb",
   "metadata": {},
   "outputs": [],
   "source": [
    "plot_fraud_scatter(fraud_data,'ch_roa','bm')"
   ]
  },
  {
   "cell_type": "code",
   "execution_count": null,
   "id": "1eda9cfe-137a-4606-aab9-772c5c026652",
   "metadata": {},
   "outputs": [],
   "source": [
    "plot_fraud_scatter(fraud_data,'dpi','bm')"
   ]
  },
  {
   "cell_type": "markdown",
   "id": "00bd5290-a215-44e9-add2-01a70298d941",
   "metadata": {},
   "source": [
    "<div class=\"alert alert-block alert-info\">In all the scatter plots, fraud cases are clustered and concentrated in a single region<br>\n",
    "We will use these two feature pairs moving forward, with the caveat that we might come back and revisit the other 4 pairs.<br><br>\n",
    "<li>ch_roa vs dpi</li>\n",
    "<li>reoa vs ch_roa</li><br>\n",
    "We will pairplot these pairs</div>\n"
   ]
  },
  {
   "cell_type": "code",
   "execution_count": null,
   "id": "c0835068-85f3-4f70-a84a-1891fb65d9fd",
   "metadata": {},
   "outputs": [],
   "source": [
    "pair_features = ['ch_roa', 'dpi', 'reoa']\n",
    "#plot_fraud_pairplot(fraud_data, pair_features)"
   ]
  },
  {
   "cell_type": "code",
   "execution_count": null,
   "id": "908faa56-54b6-4b31-98b2-fed2bdc2bd94",
   "metadata": {},
   "outputs": [],
   "source": [
    "custom_fraud_pairplot(fraud_data, pair_features)\n"
   ]
  },
  {
   "cell_type": "markdown",
   "id": "1ccb33d0-a397-433c-8657-c078f9a2771c",
   "metadata": {},
   "source": [
    "<div class=\"alert alert-block alert-info\"><h2>Save Data</h2></div>\n"
   ]
  },
  {
   "cell_type": "code",
   "execution_count": null,
   "id": "7ee0ff96-861b-437e-92b6-937a98125c51",
   "metadata": {},
   "outputs": [],
   "source": [
    "# Save full cleaned DataFrame\n",
    "\n",
    "# Define base path\n",
    "datapath = \"../data\"\n",
    "\n",
    "# Save full cleaned DataFrame\n",
    "fraud_data.to_csv(os.path.join(datapath, \"fraud_data_clean.csv\"), index=False)\n",
    "nN_updated.to_csv(os.path.join(datapath, \"fraud_model_features.csv\"), index=False)\n"
   ]
  },
  {
   "cell_type": "markdown",
   "id": "1d9332ca-e7ce-4f7b-90f3-607ed7a8c052",
   "metadata": {},
   "source": [
    "### <div class=\"alert alert-block alert-info\"><h3>Wrangling Complete</h3>\n",
    "</div>\n"
   ]
  },
  {
   "cell_type": "markdown",
   "id": "f42e9947-491a-4b36-85d7-bc72aec6684e",
   "metadata": {},
   "source": [
    "<div class=\"alert alert-block alert-info\">\n",
    "- Raw dataset cleaned, nulls imputed using category-specific strategies (KNN, median, iterative)<br>\n",
    "- Derived fraud signal features added<br>\n",
    "- Outliers retained as informative for tree-based models<br>\n",
    "- Saved cleaned data to `../data/fraud_data_clean.csv`\n",
    "</div>\n"
   ]
  },
  {
   "cell_type": "markdown",
   "id": "fe2d34d9-4dbb-4bcd-adbe-8414a09fba24",
   "metadata": {},
   "source": [
    "<div class=\"alert alert-block alert-info\">\n",
    "\n",
    "<b>Wrangling Summary</b><br>\n",
    "\n",
    "This notebook performed structured data wrangling on a financial dataset intended for fraud detection modeling.<br>\n",
    "\n",
    "<ul>\n",
    "  <li><b>Original dataset:</b> 146,045 rows and 47 columns</li>\n",
    "  <li><b>Target feature:</b> <code>misstate</code> (provided, not derived)</li>\n",
    "  <li><b>Rows removed:</b> None — all company-year records retained</li>\n",
    "  <li><b>Columns removed:</b> <code>p_aaer</code> — >99% missing and non-predictive (SEC document ID)</li>\n",
    "  <li><b>Column types:</b> All features are numerical; no categorical encoding required</li>\n",
    "  <li><b>Missing value handling:</b>\n",
    "    <ul>\n",
    "      <li><b>KNN Imputer:</b> Moderate-miss features (e.g., <code>dch_wc</code>, <code>ch_fcf</code>)</li>\n",
    "      <li><b>Median Imputer:</b> Low-miss features (e.g., <code>bm</code>, <code>ebit</code>)</li>\n",
    "      <li><b>Iterative Imputer:</b> High-miss features (e.g., <code>ch_cs</code>, <code>ch_cm</code>)</li>\n",
    "      <li><b>Binary Flags Added:</b> <code>ch_cs_missing</code>, <code>ch_cm_missing</code></li>\n",
    "    </ul>\n",
    "  </li>\n",
    "  <li><b>Duplicates:</b> None found — all firm-year combinations unique</li>\n",
    "  <li><b>Outliers:</b> Retained — distributions reflect real-world financial variation</li>\n",
    "  <li><b>Final shape:</b> 146,045 rows × 46 columns (fully imputed, modeling-ready)</li>\n",
    "  <li><b>Next step:</b> Proceed to <code>02_eda.ipynb</code>. Conduct an in-depth exploratory data analysis (EDA) to assess variable distributions, relationships, and feature importance before model training. </li>\n",
    "</li>\n",
    "</ul>\n",
    "\n",
    "</div>\n",
    "\n"
   ]
  },
  {
   "cell_type": "code",
   "execution_count": null,
   "id": "3d9de46e-712a-4842-8cd7-25f891801b34",
   "metadata": {},
   "outputs": [],
   "source": [
    "fraud_data.shape"
   ]
  },
  {
   "cell_type": "code",
   "execution_count": null,
   "id": "ce1f580a-9be5-463f-839a-4798b8641bd9",
   "metadata": {},
   "outputs": [],
   "source": []
  },
  {
   "cell_type": "code",
   "execution_count": null,
   "id": "6ef72a0a-be17-4b39-93c0-6e00327b934f",
   "metadata": {},
   "outputs": [],
   "source": []
  },
  {
   "cell_type": "code",
   "execution_count": null,
   "id": "e8a65840-3c64-4b0d-ad8e-e1e25cda2ad7",
   "metadata": {},
   "outputs": [],
   "source": []
  },
  {
   "cell_type": "code",
   "execution_count": null,
   "id": "54998056-7fcf-45b1-8afc-143f3db2db22",
   "metadata": {},
   "outputs": [],
   "source": [
    "#Stop the timer to check the execution time of the notebook.\n",
    "end_time = time.time()\n",
    "print(f\"Total execution time: {round(end_time - start_time, 2)} seconds\")"
   ]
  }
 ],
 "metadata": {
  "kernelspec": {
   "display_name": "Python 3 (ipykernel)",
   "language": "python",
   "name": "python3"
  },
  "language_info": {
   "codemirror_mode": {
    "name": "ipython",
    "version": 3
   },
   "file_extension": ".py",
   "mimetype": "text/x-python",
   "name": "python",
   "nbconvert_exporter": "python",
   "pygments_lexer": "ipython3",
   "version": "3.13.1"
  }
 },
 "nbformat": 4,
 "nbformat_minor": 5
}
