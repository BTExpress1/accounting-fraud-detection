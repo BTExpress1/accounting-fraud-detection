{
 "cells": [
  {
   "cell_type": "markdown",
   "id": "32aedf45-cda2-4052-a096-1db496cb8f9d",
   "metadata": {},
   "source": [
    "<div class=\"alert alert-block alert-info\" align=center><h1>Accounting Fraud Detection Data Wrangling</h1></div>"
   ]
  },
  {
   "cell_type": "markdown",
   "id": "89a697d8-505a-4a8b-bc46-78684c2daa90",
   "metadata": {},
   "source": [
    "<div class=\"alert alert-block alert-info\"><b>We are going to look at a dataset from a 2020 FraudDetection GitHub repository. </b></div>"
   ]
  },
  {
   "cell_type": "markdown",
   "id": "1fe43f86-b88a-458c-b2bd-bf7a0ab57914",
   "metadata": {},
   "source": [
    "## <div class=\"alert alert-block alert-info\" ><h1>Imports</h1></div>"
   ]
  },
  {
   "cell_type": "code",
   "execution_count": 1,
   "id": "389c393b-fcfc-49a9-82a6-cd465a9c6cee",
   "metadata": {
    "execution": {
     "iopub.execute_input": "2025-05-17T01:05:20.710718Z",
     "iopub.status.busy": "2025-05-17T01:05:20.710371Z",
     "iopub.status.idle": "2025-05-17T01:05:21.722063Z",
     "shell.execute_reply": "2025-05-17T01:05:21.721495Z",
     "shell.execute_reply.started": "2025-05-17T01:05:20.710700Z"
    }
   },
   "outputs": [],
   "source": [
    "import pandas as pd\n",
    "import matplotlib.pyplot as plt\n",
    "import seaborn as sns\n",
    "import numpy as np"
   ]
  },
  {
   "cell_type": "markdown",
   "id": "1a4b872a-9b58-438b-af0c-e487fcbc78a9",
   "metadata": {},
   "source": [
    "## <div class=\"alert alert-block alert-info\" ><h1>Function Definitions</h1></div>"
   ]
  },
  {
   "cell_type": "markdown",
   "id": "1526a06f-55eb-444c-bf01-fa09a57bb9f7",
   "metadata": {},
   "source": [
    "## <div class=\"alert alert-info\"><h1>Load the Data</h1></div>"
   ]
  },
  {
   "cell_type": "code",
   "execution_count": 4,
   "id": "2fac8da1-969d-458f-bf7c-f7b9bddc8751",
   "metadata": {
    "execution": {
     "iopub.execute_input": "2025-05-17T01:09:33.141892Z",
     "iopub.status.busy": "2025-05-17T01:09:33.141532Z",
     "iopub.status.idle": "2025-05-17T01:09:33.606738Z",
     "shell.execute_reply": "2025-05-17T01:09:33.606101Z",
     "shell.execute_reply.started": "2025-05-17T01:09:33.141875Z"
    }
   },
   "outputs": [],
   "source": [
    "datapath = \"../data/raw//data_FraudDetection_JAR2020.csv\"\n",
    "fraud_data = pd.read_csv(datapath)"
   ]
  },
  {
   "cell_type": "code",
   "execution_count": 6,
   "id": "3453280b-a866-466b-b34f-28e09137ba74",
   "metadata": {
    "execution": {
     "iopub.execute_input": "2025-05-17T01:10:11.825184Z",
     "iopub.status.busy": "2025-05-17T01:10:11.824676Z",
     "iopub.status.idle": "2025-05-17T01:10:11.848422Z",
     "shell.execute_reply": "2025-05-17T01:10:11.847923Z",
     "shell.execute_reply.started": "2025-05-17T01:10:11.825169Z"
    }
   },
   "outputs": [
    {
     "data": {
      "text/plain": [
       "<bound method DataFrame.info of         fyear   gvkey  p_aaer  misstate       act       ap        at  \\\n",
       "0        1990    1009     NaN         0    10.047    3.736    32.335   \n",
       "1        1990    1011     NaN         0     1.247    0.803     7.784   \n",
       "2        1990    1017     NaN         0    55.040    3.601   118.120   \n",
       "3        1990    1021     NaN         0    24.684    3.948    34.591   \n",
       "4        1990    1028     NaN         0    17.325    3.520    27.542   \n",
       "...       ...     ...     ...       ...       ...      ...       ...   \n",
       "146040   2014  314866     NaN         0   262.600   12.400  1234.800   \n",
       "146041   2014  315318     NaN         0  1578.400  106.700  4557.600   \n",
       "146042   2014  316056     NaN         0   973.800  249.500  2015.900   \n",
       "146043   2014  317260     NaN         0    51.743    1.555   322.421   \n",
       "146044   2014  317264     NaN         0   233.211    5.224  1099.101   \n",
       "\n",
       "             ceq      che      cogs  ...  soft_assets     ch_cs     ch_cm  \\\n",
       "0          6.262    0.002    30.633  ...     0.312448  0.095082  0.082631   \n",
       "1          0.667    0.171     1.125  ...     0.315904  0.188832 -0.211389   \n",
       "2         44.393    3.132   107.343  ...     0.605342  0.097551 -0.105780   \n",
       "3          7.751    0.411    31.214  ...     0.793068 -0.005725 -0.249704   \n",
       "4        -12.142    1.017    32.662  ...     0.869182 -0.231536 -1.674893   \n",
       "...          ...      ...       ...  ...          ...       ...       ...   \n",
       "146040   194.100  166.200   214.400  ...     0.751944  0.560406  0.127217   \n",
       "146041  2459.600  997.300   324.400  ...     0.742781 -0.118178  0.031360   \n",
       "146042    -4.800  290.500  1185.500  ...     0.751129  0.004207 -0.037925   \n",
       "146043   319.230   46.398    24.319  ...     0.018001       NaN       NaN   \n",
       "146044   873.214  204.821    43.338  ...     0.068841  1.684618 -0.094348   \n",
       "\n",
       "          ch_roa  issue        bm       dpi      reoa      EBIT    ch_fcf  \n",
       "0      -0.019761      1  0.413170  0.873555  0.167620  0.161961 -0.042140  \n",
       "1      -0.117832      1  0.157887  0.745139 -0.428957 -0.157888  0.100228  \n",
       "2       0.091206      1  2.231337  1.015131  0.394768  0.063681  0.066348  \n",
       "3       0.017545      1  1.043582  1.026261  0.094822  0.088347 -0.017358  \n",
       "4      -0.466667      0 -1.602508  0.598443 -0.942379 -0.700821  0.130349  \n",
       "...          ...    ...       ...       ...       ...       ...       ...  \n",
       "146040 -0.050591      1  0.103693  0.829680 -0.327178 -0.008179 -0.261606  \n",
       "146041  0.095355      1  0.581796  0.743084 -0.077826  0.000461 -0.296702  \n",
       "146042  0.072050      1 -0.000903  1.063878 -0.002877  0.153133  0.065569  \n",
       "146043       NaN      1  1.109467       NaN  0.000000  0.028804       NaN  \n",
       "146044  0.020573      1  1.154308  0.745399  0.025562  0.026433 -0.240183  \n",
       "\n",
       "[146045 rows x 46 columns]>"
      ]
     },
     "execution_count": 6,
     "metadata": {},
     "output_type": "execute_result"
    }
   ],
   "source": [
    "fraud_data.info"
   ]
  },
  {
   "cell_type": "code",
   "execution_count": null,
   "id": "b0f0851c-4eed-4e7a-a4fd-099eae2c623e",
   "metadata": {},
   "outputs": [],
   "source": []
  }
 ],
 "metadata": {
  "kernelspec": {
   "display_name": "Python 3 (ipykernel)",
   "language": "python",
   "name": "python3"
  },
  "language_info": {
   "codemirror_mode": {
    "name": "ipython",
    "version": 3
   },
   "file_extension": ".py",
   "mimetype": "text/x-python",
   "name": "python",
   "nbconvert_exporter": "python",
   "pygments_lexer": "ipython3",
   "version": "3.13.1"
  }
 },
 "nbformat": 4,
 "nbformat_minor": 5
}
