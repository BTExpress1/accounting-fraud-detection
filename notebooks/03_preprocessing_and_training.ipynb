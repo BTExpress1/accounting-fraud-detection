{
 "cells": [
  {
   "cell_type": "markdown",
   "id": "a1884add-c2f8-4245-80a5-7e7e8cfd931b",
   "metadata": {},
   "source": [
    "<div class=\"alert alert-block alert-info\" align=center><h1>Accounting Fraud Detection Preprocessing and Training</h1></div>"
   ]
  },
  {
   "cell_type": "markdown",
   "id": "0ca6a30e-a1bb-4dd4-a94a-6c6ff4c4a53f",
   "metadata": {},
   "source": [
    "## <div class=\"alert alert-block alert-info\" ><h1>Imports</h1></div>"
   ]
  },
  {
   "cell_type": "code",
   "execution_count": 1,
   "id": "c11ba59a-8da6-4e1b-8589-d840dcf9daaa",
   "metadata": {
    "execution": {
     "iopub.execute_input": "2025-06-01T23:29:06.544661Z",
     "iopub.status.busy": "2025-06-01T23:29:06.544661Z",
     "iopub.status.idle": "2025-06-01T23:29:06.548117Z",
     "shell.execute_reply": "2025-06-01T23:29:06.548117Z",
     "shell.execute_reply.started": "2025-06-01T23:29:06.544661Z"
    }
   },
   "outputs": [],
   "source": [
    "#!pip install catboost"
   ]
  },
  {
   "cell_type": "code",
   "execution_count": 2,
   "id": "8d9ec629-3649-408a-aff6-3f81486d570a",
   "metadata": {
    "execution": {
     "iopub.execute_input": "2025-06-01T23:29:06.549607Z",
     "iopub.status.busy": "2025-06-01T23:29:06.549607Z",
     "iopub.status.idle": "2025-06-01T23:29:09.735340Z",
     "shell.execute_reply": "2025-06-01T23:29:09.735340Z",
     "shell.execute_reply.started": "2025-06-01T23:29:06.549607Z"
    }
   },
   "outputs": [],
   "source": [
    "import pandas as pd\n",
    "import numpy as np\n",
    "import matplotlib.pyplot as plt\n",
    "import seaborn as sns\n",
    "import time\n",
    "import os\n",
    "import joblib\n",
    "import json\n",
    "from datetime import datetime\n",
    "from sklearn.preprocessing import RobustScaler, StandardScaler\n",
    "from sklearn.model_selection import train_test_split\n",
    "from sklearn.compose import ColumnTransformer\n",
    "from sklearn.ensemble import RandomForestClassifier\n",
    "from sklearn.metrics import accuracy_score, f1_score, roc_auc_score, classification_report, confusion_matrix\n",
    "from catboost import CatBoostClassifier\n",
    "from tensorflow.keras.models import Sequential\n",
    "from tensorflow.keras.layers import Dense, Dropout\n",
    "from tensorflow.keras.optimizers import Adam\n",
    "from sklearn.preprocessing import FunctionTransformer\n",
    "\n",
    "\n",
    "#Start a timer to check the execution time of the notebook.\n",
    "start_time = time.time()"
   ]
  },
  {
   "cell_type": "markdown",
   "id": "998487aa-a40c-4ba1-936f-888ee2bb7b11",
   "metadata": {},
   "source": [
    "## <div class=\"alert alert-info\"><h1>Load the Data</h1></div>"
   ]
  },
  {
   "cell_type": "code",
   "execution_count": 3,
   "id": "84c0aa21-5b77-49a9-a9ab-6a999475703c",
   "metadata": {
    "execution": {
     "iopub.execute_input": "2025-06-01T23:29:09.735340Z",
     "iopub.status.busy": "2025-06-01T23:29:09.735340Z",
     "iopub.status.idle": "2025-06-01T23:29:10.184839Z",
     "shell.execute_reply": "2025-06-01T23:29:10.184839Z",
     "shell.execute_reply.started": "2025-06-01T23:29:09.735340Z"
    }
   },
   "outputs": [],
   "source": [
    "# Define base path\n",
    "datapath = \"../data\"\n",
    "\n",
    "fraud_data = pd.read_csv(os.path.join(datapath, \"fraud_data_eda.csv\"))\n"
   ]
  },
  {
   "cell_type": "code",
   "execution_count": 4,
   "id": "2040a3d4-4c11-4e12-8785-32e67adb8305",
   "metadata": {
    "execution": {
     "iopub.execute_input": "2025-06-01T23:29:10.184839Z",
     "iopub.status.busy": "2025-06-01T23:29:10.184839Z",
     "iopub.status.idle": "2025-06-01T23:29:10.202530Z",
     "shell.execute_reply": "2025-06-01T23:29:10.202530Z",
     "shell.execute_reply.started": "2025-06-01T23:29:10.184839Z"
    }
   },
   "outputs": [
    {
     "data": {
      "text/html": [
       "<div>\n",
       "<style scoped>\n",
       "    .dataframe tbody tr th:only-of-type {\n",
       "        vertical-align: middle;\n",
       "    }\n",
       "\n",
       "    .dataframe tbody tr th {\n",
       "        vertical-align: top;\n",
       "    }\n",
       "\n",
       "    .dataframe thead th {\n",
       "        text-align: right;\n",
       "    }\n",
       "</style>\n",
       "<table border=\"1\" class=\"dataframe\">\n",
       "  <thead>\n",
       "    <tr style=\"text-align: right;\">\n",
       "      <th></th>\n",
       "      <th>0</th>\n",
       "      <th>1</th>\n",
       "      <th>2</th>\n",
       "      <th>3</th>\n",
       "      <th>4</th>\n",
       "    </tr>\n",
       "  </thead>\n",
       "  <tbody>\n",
       "    <tr>\n",
       "      <th>misstate</th>\n",
       "      <td>0.000000</td>\n",
       "      <td>0.000000</td>\n",
       "      <td>0.000000</td>\n",
       "      <td>0.000000</td>\n",
       "      <td>0.000000</td>\n",
       "    </tr>\n",
       "    <tr>\n",
       "      <th>act</th>\n",
       "      <td>10.047000</td>\n",
       "      <td>1.247000</td>\n",
       "      <td>55.040000</td>\n",
       "      <td>24.684000</td>\n",
       "      <td>17.325000</td>\n",
       "    </tr>\n",
       "    <tr>\n",
       "      <th>ap</th>\n",
       "      <td>3.736000</td>\n",
       "      <td>0.803000</td>\n",
       "      <td>3.601000</td>\n",
       "      <td>3.948000</td>\n",
       "      <td>3.520000</td>\n",
       "    </tr>\n",
       "    <tr>\n",
       "      <th>at</th>\n",
       "      <td>32.335000</td>\n",
       "      <td>7.784000</td>\n",
       "      <td>118.120000</td>\n",
       "      <td>34.591000</td>\n",
       "      <td>27.542000</td>\n",
       "    </tr>\n",
       "    <tr>\n",
       "      <th>ceq</th>\n",
       "      <td>6.262000</td>\n",
       "      <td>0.667000</td>\n",
       "      <td>44.393000</td>\n",
       "      <td>7.751000</td>\n",
       "      <td>-12.142000</td>\n",
       "    </tr>\n",
       "    <tr>\n",
       "      <th>che</th>\n",
       "      <td>0.002000</td>\n",
       "      <td>0.171000</td>\n",
       "      <td>3.132000</td>\n",
       "      <td>0.411000</td>\n",
       "      <td>1.017000</td>\n",
       "    </tr>\n",
       "    <tr>\n",
       "      <th>cogs</th>\n",
       "      <td>30.633000</td>\n",
       "      <td>1.125000</td>\n",
       "      <td>107.343000</td>\n",
       "      <td>31.214000</td>\n",
       "      <td>32.662000</td>\n",
       "    </tr>\n",
       "    <tr>\n",
       "      <th>csho</th>\n",
       "      <td>2.526000</td>\n",
       "      <td>3.556000</td>\n",
       "      <td>3.882000</td>\n",
       "      <td>4.755000</td>\n",
       "      <td>6.735000</td>\n",
       "    </tr>\n",
       "    <tr>\n",
       "      <th>dlc</th>\n",
       "      <td>3.283000</td>\n",
       "      <td>0.021000</td>\n",
       "      <td>6.446000</td>\n",
       "      <td>8.791000</td>\n",
       "      <td>32.206000</td>\n",
       "    </tr>\n",
       "    <tr>\n",
       "      <th>dltis</th>\n",
       "      <td>32.853000</td>\n",
       "      <td>2.017000</td>\n",
       "      <td>6.500000</td>\n",
       "      <td>0.587000</td>\n",
       "      <td>0.000000</td>\n",
       "    </tr>\n",
       "    <tr>\n",
       "      <th>dltt</th>\n",
       "      <td>17.691000</td>\n",
       "      <td>5.871000</td>\n",
       "      <td>37.603000</td>\n",
       "      <td>8.906000</td>\n",
       "      <td>0.266000</td>\n",
       "    </tr>\n",
       "    <tr>\n",
       "      <th>dp</th>\n",
       "      <td>1.971000</td>\n",
       "      <td>0.700000</td>\n",
       "      <td>6.271000</td>\n",
       "      <td>1.325000</td>\n",
       "      <td>2.711000</td>\n",
       "    </tr>\n",
       "    <tr>\n",
       "      <th>ib</th>\n",
       "      <td>1.431000</td>\n",
       "      <td>-1.869000</td>\n",
       "      <td>1.722000</td>\n",
       "      <td>0.422000</td>\n",
       "      <td>-23.577000</td>\n",
       "    </tr>\n",
       "    <tr>\n",
       "      <th>invt</th>\n",
       "      <td>2.355000</td>\n",
       "      <td>0.663000</td>\n",
       "      <td>4.292000</td>\n",
       "      <td>15.463000</td>\n",
       "      <td>8.971000</td>\n",
       "    </tr>\n",
       "    <tr>\n",
       "      <th>ivao</th>\n",
       "      <td>0.000000</td>\n",
       "      <td>0.132000</td>\n",
       "      <td>12.989000</td>\n",
       "      <td>0.000000</td>\n",
       "      <td>0.000000</td>\n",
       "    </tr>\n",
       "    <tr>\n",
       "      <th>ivst</th>\n",
       "      <td>0.000000</td>\n",
       "      <td>0.000000</td>\n",
       "      <td>2.913000</td>\n",
       "      <td>0.000000</td>\n",
       "      <td>0.000000</td>\n",
       "    </tr>\n",
       "    <tr>\n",
       "      <th>lct</th>\n",
       "      <td>8.382000</td>\n",
       "      <td>1.246000</td>\n",
       "      <td>32.615000</td>\n",
       "      <td>16.208000</td>\n",
       "      <td>39.418000</td>\n",
       "    </tr>\n",
       "    <tr>\n",
       "      <th>lt</th>\n",
       "      <td>26.073000</td>\n",
       "      <td>7.117000</td>\n",
       "      <td>73.727000</td>\n",
       "      <td>25.545000</td>\n",
       "      <td>39.684000</td>\n",
       "    </tr>\n",
       "    <tr>\n",
       "      <th>ni</th>\n",
       "      <td>2.135000</td>\n",
       "      <td>-1.869000</td>\n",
       "      <td>2.574000</td>\n",
       "      <td>0.422000</td>\n",
       "      <td>-22.812000</td>\n",
       "    </tr>\n",
       "    <tr>\n",
       "      <th>ppegt</th>\n",
       "      <td>31.767000</td>\n",
       "      <td>7.328000</td>\n",
       "      <td>78.331000</td>\n",
       "      <td>11.145000</td>\n",
       "      <td>5.782000</td>\n",
       "    </tr>\n",
       "    <tr>\n",
       "      <th>pstk</th>\n",
       "      <td>0.000000</td>\n",
       "      <td>0.000000</td>\n",
       "      <td>0.000000</td>\n",
       "      <td>1.295000</td>\n",
       "      <td>0.000000</td>\n",
       "    </tr>\n",
       "    <tr>\n",
       "      <th>re</th>\n",
       "      <td>5.420000</td>\n",
       "      <td>-3.339000</td>\n",
       "      <td>46.630000</td>\n",
       "      <td>3.280000</td>\n",
       "      <td>-25.955000</td>\n",
       "    </tr>\n",
       "    <tr>\n",
       "      <th>rect</th>\n",
       "      <td>6.895000</td>\n",
       "      <td>0.290000</td>\n",
       "      <td>47.366000</td>\n",
       "      <td>8.522000</td>\n",
       "      <td>6.354000</td>\n",
       "    </tr>\n",
       "    <tr>\n",
       "      <th>sale</th>\n",
       "      <td>40.522000</td>\n",
       "      <td>3.635000</td>\n",
       "      <td>144.258000</td>\n",
       "      <td>48.292000</td>\n",
       "      <td>33.543000</td>\n",
       "    </tr>\n",
       "    <tr>\n",
       "      <th>sstk</th>\n",
       "      <td>0.000000</td>\n",
       "      <td>0.006000</td>\n",
       "      <td>0.000000</td>\n",
       "      <td>0.000000</td>\n",
       "      <td>0.000000</td>\n",
       "    </tr>\n",
       "    <tr>\n",
       "      <th>txp</th>\n",
       "      <td>0.000000</td>\n",
       "      <td>0.000000</td>\n",
       "      <td>0.000000</td>\n",
       "      <td>0.448000</td>\n",
       "      <td>0.000000</td>\n",
       "    </tr>\n",
       "    <tr>\n",
       "      <th>txt</th>\n",
       "      <td>0.769000</td>\n",
       "      <td>0.000000</td>\n",
       "      <td>0.986000</td>\n",
       "      <td>0.365000</td>\n",
       "      <td>0.000000</td>\n",
       "    </tr>\n",
       "    <tr>\n",
       "      <th>xint</th>\n",
       "      <td>2.333000</td>\n",
       "      <td>0.640000</td>\n",
       "      <td>3.962000</td>\n",
       "      <td>2.269000</td>\n",
       "      <td>3.510000</td>\n",
       "    </tr>\n",
       "    <tr>\n",
       "      <th>prcc_f</th>\n",
       "      <td>6.000000</td>\n",
       "      <td>1.188000</td>\n",
       "      <td>5.125000</td>\n",
       "      <td>1.562000</td>\n",
       "      <td>1.125000</td>\n",
       "    </tr>\n",
       "    <tr>\n",
       "      <th>dch_wc</th>\n",
       "      <td>0.069595</td>\n",
       "      <td>-0.065604</td>\n",
       "      <td>0.092822</td>\n",
       "      <td>0.014060</td>\n",
       "      <td>-0.540503</td>\n",
       "    </tr>\n",
       "    <tr>\n",
       "      <th>ch_rsst</th>\n",
       "      <td>0.046043</td>\n",
       "      <td>-0.240937</td>\n",
       "      <td>0.020143</td>\n",
       "      <td>0.035120</td>\n",
       "      <td>-0.575325</td>\n",
       "    </tr>\n",
       "    <tr>\n",
       "      <th>dch_rec</th>\n",
       "      <td>0.041935</td>\n",
       "      <td>-0.006248</td>\n",
       "      <td>0.002156</td>\n",
       "      <td>0.035583</td>\n",
       "      <td>-0.102153</td>\n",
       "    </tr>\n",
       "    <tr>\n",
       "      <th>dch_inv</th>\n",
       "      <td>0.033034</td>\n",
       "      <td>-0.026684</td>\n",
       "      <td>0.002746</td>\n",
       "      <td>0.008332</td>\n",
       "      <td>-0.222022</td>\n",
       "    </tr>\n",
       "    <tr>\n",
       "      <th>soft_assets</th>\n",
       "      <td>0.312448</td>\n",
       "      <td>0.315904</td>\n",
       "      <td>0.605342</td>\n",
       "      <td>0.793068</td>\n",
       "      <td>0.869182</td>\n",
       "    </tr>\n",
       "    <tr>\n",
       "      <th>ch_cs</th>\n",
       "      <td>0.095082</td>\n",
       "      <td>0.188832</td>\n",
       "      <td>0.097551</td>\n",
       "      <td>-0.005725</td>\n",
       "      <td>-0.231536</td>\n",
       "    </tr>\n",
       "    <tr>\n",
       "      <th>ch_cm</th>\n",
       "      <td>0.082631</td>\n",
       "      <td>-0.211389</td>\n",
       "      <td>-0.105780</td>\n",
       "      <td>-0.249704</td>\n",
       "      <td>-1.674893</td>\n",
       "    </tr>\n",
       "    <tr>\n",
       "      <th>ch_roa</th>\n",
       "      <td>-0.019761</td>\n",
       "      <td>-0.117832</td>\n",
       "      <td>0.091206</td>\n",
       "      <td>0.017545</td>\n",
       "      <td>-0.466667</td>\n",
       "    </tr>\n",
       "    <tr>\n",
       "      <th>issue</th>\n",
       "      <td>1.000000</td>\n",
       "      <td>1.000000</td>\n",
       "      <td>1.000000</td>\n",
       "      <td>1.000000</td>\n",
       "      <td>0.000000</td>\n",
       "    </tr>\n",
       "    <tr>\n",
       "      <th>bm</th>\n",
       "      <td>0.413170</td>\n",
       "      <td>0.157887</td>\n",
       "      <td>2.231337</td>\n",
       "      <td>1.043582</td>\n",
       "      <td>-1.602508</td>\n",
       "    </tr>\n",
       "    <tr>\n",
       "      <th>dpi</th>\n",
       "      <td>0.873555</td>\n",
       "      <td>0.745139</td>\n",
       "      <td>1.015131</td>\n",
       "      <td>1.026261</td>\n",
       "      <td>0.598443</td>\n",
       "    </tr>\n",
       "    <tr>\n",
       "      <th>reoa</th>\n",
       "      <td>0.167620</td>\n",
       "      <td>-0.428957</td>\n",
       "      <td>0.394768</td>\n",
       "      <td>0.094822</td>\n",
       "      <td>-0.942379</td>\n",
       "    </tr>\n",
       "    <tr>\n",
       "      <th>ebit</th>\n",
       "      <td>0.161961</td>\n",
       "      <td>-0.157888</td>\n",
       "      <td>0.063681</td>\n",
       "      <td>0.088347</td>\n",
       "      <td>-0.700821</td>\n",
       "    </tr>\n",
       "    <tr>\n",
       "      <th>ch_fcf</th>\n",
       "      <td>-0.042140</td>\n",
       "      <td>0.100228</td>\n",
       "      <td>0.066348</td>\n",
       "      <td>-0.017358</td>\n",
       "      <td>0.130349</td>\n",
       "    </tr>\n",
       "    <tr>\n",
       "      <th>ch_cs_missing</th>\n",
       "      <td>0.000000</td>\n",
       "      <td>0.000000</td>\n",
       "      <td>0.000000</td>\n",
       "      <td>0.000000</td>\n",
       "      <td>0.000000</td>\n",
       "    </tr>\n",
       "    <tr>\n",
       "      <th>ch_cm_missing</th>\n",
       "      <td>0.000000</td>\n",
       "      <td>0.000000</td>\n",
       "      <td>0.000000</td>\n",
       "      <td>0.000000</td>\n",
       "      <td>0.000000</td>\n",
       "    </tr>\n",
       "  </tbody>\n",
       "</table>\n",
       "</div>"
      ],
      "text/plain": [
       "                       0         1           2          3          4\n",
       "misstate        0.000000  0.000000    0.000000   0.000000   0.000000\n",
       "act            10.047000  1.247000   55.040000  24.684000  17.325000\n",
       "ap              3.736000  0.803000    3.601000   3.948000   3.520000\n",
       "at             32.335000  7.784000  118.120000  34.591000  27.542000\n",
       "ceq             6.262000  0.667000   44.393000   7.751000 -12.142000\n",
       "che             0.002000  0.171000    3.132000   0.411000   1.017000\n",
       "cogs           30.633000  1.125000  107.343000  31.214000  32.662000\n",
       "csho            2.526000  3.556000    3.882000   4.755000   6.735000\n",
       "dlc             3.283000  0.021000    6.446000   8.791000  32.206000\n",
       "dltis          32.853000  2.017000    6.500000   0.587000   0.000000\n",
       "dltt           17.691000  5.871000   37.603000   8.906000   0.266000\n",
       "dp              1.971000  0.700000    6.271000   1.325000   2.711000\n",
       "ib              1.431000 -1.869000    1.722000   0.422000 -23.577000\n",
       "invt            2.355000  0.663000    4.292000  15.463000   8.971000\n",
       "ivao            0.000000  0.132000   12.989000   0.000000   0.000000\n",
       "ivst            0.000000  0.000000    2.913000   0.000000   0.000000\n",
       "lct             8.382000  1.246000   32.615000  16.208000  39.418000\n",
       "lt             26.073000  7.117000   73.727000  25.545000  39.684000\n",
       "ni              2.135000 -1.869000    2.574000   0.422000 -22.812000\n",
       "ppegt          31.767000  7.328000   78.331000  11.145000   5.782000\n",
       "pstk            0.000000  0.000000    0.000000   1.295000   0.000000\n",
       "re              5.420000 -3.339000   46.630000   3.280000 -25.955000\n",
       "rect            6.895000  0.290000   47.366000   8.522000   6.354000\n",
       "sale           40.522000  3.635000  144.258000  48.292000  33.543000\n",
       "sstk            0.000000  0.006000    0.000000   0.000000   0.000000\n",
       "txp             0.000000  0.000000    0.000000   0.448000   0.000000\n",
       "txt             0.769000  0.000000    0.986000   0.365000   0.000000\n",
       "xint            2.333000  0.640000    3.962000   2.269000   3.510000\n",
       "prcc_f          6.000000  1.188000    5.125000   1.562000   1.125000\n",
       "dch_wc          0.069595 -0.065604    0.092822   0.014060  -0.540503\n",
       "ch_rsst         0.046043 -0.240937    0.020143   0.035120  -0.575325\n",
       "dch_rec         0.041935 -0.006248    0.002156   0.035583  -0.102153\n",
       "dch_inv         0.033034 -0.026684    0.002746   0.008332  -0.222022\n",
       "soft_assets     0.312448  0.315904    0.605342   0.793068   0.869182\n",
       "ch_cs           0.095082  0.188832    0.097551  -0.005725  -0.231536\n",
       "ch_cm           0.082631 -0.211389   -0.105780  -0.249704  -1.674893\n",
       "ch_roa         -0.019761 -0.117832    0.091206   0.017545  -0.466667\n",
       "issue           1.000000  1.000000    1.000000   1.000000   0.000000\n",
       "bm              0.413170  0.157887    2.231337   1.043582  -1.602508\n",
       "dpi             0.873555  0.745139    1.015131   1.026261   0.598443\n",
       "reoa            0.167620 -0.428957    0.394768   0.094822  -0.942379\n",
       "ebit            0.161961 -0.157888    0.063681   0.088347  -0.700821\n",
       "ch_fcf         -0.042140  0.100228    0.066348  -0.017358   0.130349\n",
       "ch_cs_missing   0.000000  0.000000    0.000000   0.000000   0.000000\n",
       "ch_cm_missing   0.000000  0.000000    0.000000   0.000000   0.000000"
      ]
     },
     "execution_count": 4,
     "metadata": {},
     "output_type": "execute_result"
    }
   ],
   "source": [
    "fraud_data.head().T"
   ]
  },
  {
   "cell_type": "markdown",
   "id": "fe2142ef-4f66-48c2-8961-51e9a13d0bd8",
   "metadata": {},
   "source": [
    "<div class=\"alert alert-info\">Based on the scaling strategy identified during wrangling<br>\n",
    "    We are going to scale the data. <br>\n",
    "    <table border=\"1\" cellpadding=\"6\" cellspacing=\"0\">\n",
    "  <thead>\n",
    "    <tr>\n",
    "      <th>Strategy</th>\n",
    "      <th>Features</th>\n",
    "    </tr>\n",
    "  </thead>\n",
    "  <tbody>\n",
    "    <tr>\n",
    "      <td><b>RobustScaler</b></td>\n",
    "      <td>act, ap, at, ceq, che, cogs, csho, dlc, dltis, dltt, dp, ib, invt, ivao, ivst, lct, lt, ni, ppegt, pstk, re, rect, sale, sstk, txp, txt, xint, prcc_f, bm, reoa, ebit</td>\n",
    "    </tr>\n",
    "    <tr>\n",
    "      <td><b>StandardScaler</b></td>\n",
    "      <td>dch_wc, ch_rsst, dch_rec, dch_inv, ch_roa, dpi, ch_fcf</td>\n",
    "    </tr>\n",
    "    <tr>\n",
    "      <td><b>Passthrough (no scaling)</b></td>\n",
    "      <td>soft_assets, issue, ch_cs_missing, ch_cm_missing</td>\n",
    "    </tr>\n",
    "  </tbody>\n",
    "</table>\n",
    "\n",
    "</div>"
   ]
  },
  {
   "cell_type": "code",
   "execution_count": 5,
   "id": "07ee3fcb-f4da-4ac2-88a4-7aad45330f34",
   "metadata": {
    "execution": {
     "iopub.execute_input": "2025-06-01T23:29:10.204559Z",
     "iopub.status.busy": "2025-06-01T23:29:10.203535Z",
     "iopub.status.idle": "2025-06-01T23:29:10.219331Z",
     "shell.execute_reply": "2025-06-01T23:29:10.219331Z",
     "shell.execute_reply.started": "2025-06-01T23:29:10.204559Z"
    }
   },
   "outputs": [],
   "source": [
    "# Target\n",
    "y = fraud_data[\"misstate\"]\n",
    "# Features only (drop target)\n",
    "X = fraud_data.drop(columns=[\"misstate\"])\n"
   ]
  },
  {
   "cell_type": "code",
   "execution_count": 6,
   "id": "9dcfe657-e4df-42b9-9531-a0bad65b9209",
   "metadata": {
    "execution": {
     "iopub.execute_input": "2025-06-01T23:29:10.219331Z",
     "iopub.status.busy": "2025-06-01T23:29:10.219331Z",
     "iopub.status.idle": "2025-06-01T23:29:10.278578Z",
     "shell.execute_reply": "2025-06-01T23:29:10.278578Z",
     "shell.execute_reply.started": "2025-06-01T23:29:10.219331Z"
    }
   },
   "outputs": [],
   "source": [
    "X_train, X_test, y_train, y_test = train_test_split(\n",
    "    X, y,\n",
    "    test_size=0.2,\n",
    "    stratify=y,\n",
    "    random_state=42\n",
    ")\n"
   ]
  },
  {
   "cell_type": "code",
   "execution_count": 7,
   "id": "e7af96d0-d967-4946-a2e6-58fa18b4b729",
   "metadata": {
    "execution": {
     "iopub.execute_input": "2025-06-01T23:29:10.279592Z",
     "iopub.status.busy": "2025-06-01T23:29:10.279592Z",
     "iopub.status.idle": "2025-06-01T23:29:10.283004Z",
     "shell.execute_reply": "2025-06-01T23:29:10.283004Z",
     "shell.execute_reply.started": "2025-06-01T23:29:10.279592Z"
    }
   },
   "outputs": [],
   "source": [
    "# Define scaling groups\n",
    "robust_features = [\n",
    "    'act', 'ap', 'at', 'ceq', 'che', 'cogs', 'csho', 'dlc', 'dltis', 'dltt', 'dp', 'ib',\n",
    "    'invt', 'ivao', 'ivst', 'lct', 'lt', 'ni', 'ppegt', 'pstk', 're', 'rect', 'sale',\n",
    "    'sstk', 'txp', 'txt', 'xint', 'prcc_f', 'bm', 'reoa', 'ebit'\n",
    "]\n",
    "\n",
    "standard_features = [\n",
    "    'dch_wc', 'ch_rsst', 'dch_rec', 'dch_inv', 'ch_roa', 'dpi', 'ch_fcf'\n",
    "]\n",
    "\n",
    "passthrough_features = [\n",
    "    'soft_assets', 'issue', 'ch_cs_missing', 'ch_cm_missing'\n",
    "]\n",
    "\n",
    "# Build the ColumnTransformer\n",
    "scaler = ColumnTransformer(\n",
    "    transformers=[\n",
    "        ('robust', RobustScaler(), robust_features),\n",
    "        ('standard', StandardScaler(), standard_features),\n",
    "        ('passthrough', FunctionTransformer(validate=False), passthrough_features)\n",
    "    ]\n",
    ")\n"
   ]
  },
  {
   "cell_type": "code",
   "execution_count": 8,
   "id": "87463017-cffe-438b-bc88-7a9eb54b6e8a",
   "metadata": {
    "execution": {
     "iopub.execute_input": "2025-06-01T23:29:10.284014Z",
     "iopub.status.busy": "2025-06-01T23:29:10.284014Z",
     "iopub.status.idle": "2025-06-01T23:29:10.413127Z",
     "shell.execute_reply": "2025-06-01T23:29:10.413127Z",
     "shell.execute_reply.started": "2025-06-01T23:29:10.284014Z"
    }
   },
   "outputs": [],
   "source": [
    "X_train_scaled = scaler.fit_transform(X_train)\n",
    "X_test_scaled = scaler.transform(X_test)"
   ]
  },
  {
   "cell_type": "markdown",
   "id": "04435eaa-42c0-434f-884e-f89ec1be9709",
   "metadata": {},
   "source": [
    "<div class=\"alert alert-info\">Now that the data is scaled. We are going to run Random Forest model based on OOTB parameters. <br>\n",
    "    We will evaluate the model to get a baseline.\n",
    "\n",
    "</div>"
   ]
  },
  {
   "cell_type": "code",
   "execution_count": 9,
   "id": "ae4d59a9-ee78-4dcd-bb2a-39707be205a8",
   "metadata": {
    "execution": {
     "iopub.execute_input": "2025-06-01T23:29:10.414471Z",
     "iopub.status.busy": "2025-06-01T23:29:10.414471Z",
     "iopub.status.idle": "2025-06-01T23:31:33.201019Z",
     "shell.execute_reply": "2025-06-01T23:31:33.201019Z",
     "shell.execute_reply.started": "2025-06-01T23:29:10.414471Z"
    }
   },
   "outputs": [
    {
     "name": "stdout",
     "output_type": "stream",
     "text": [
      "📊 Random Forest Performance (Out-of-the-box):\n",
      "Accuracy:     0.9934\n",
      "F1 Score:     0.0000\n",
      "ROC AUC:      0.8265\n",
      "\n",
      "Classification Report:\n",
      "              precision    recall  f1-score   support\n",
      "\n",
      "           0       0.99      1.00      1.00     29016\n",
      "           1       0.00      0.00      0.00       193\n",
      "\n",
      "    accuracy                           0.99     29209\n",
      "   macro avg       0.50      0.50      0.50     29209\n",
      "weighted avg       0.99      0.99      0.99     29209\n",
      "\n"
     ]
    },
    {
     "name": "stderr",
     "output_type": "stream",
     "text": [
      "C:\\Users\\binia\\AppData\\Roaming\\Python\\Python311\\site-packages\\sklearn\\metrics\\_classification.py:1471: UndefinedMetricWarning: Precision and F-score are ill-defined and being set to 0.0 in labels with no predicted samples. Use `zero_division` parameter to control this behavior.\n",
      "  _warn_prf(average, modifier, msg_start, len(result))\n",
      "C:\\Users\\binia\\AppData\\Roaming\\Python\\Python311\\site-packages\\sklearn\\metrics\\_classification.py:1471: UndefinedMetricWarning: Precision and F-score are ill-defined and being set to 0.0 in labels with no predicted samples. Use `zero_division` parameter to control this behavior.\n",
      "  _warn_prf(average, modifier, msg_start, len(result))\n",
      "C:\\Users\\binia\\AppData\\Roaming\\Python\\Python311\\site-packages\\sklearn\\metrics\\_classification.py:1471: UndefinedMetricWarning: Precision and F-score are ill-defined and being set to 0.0 in labels with no predicted samples. Use `zero_division` parameter to control this behavior.\n",
      "  _warn_prf(average, modifier, msg_start, len(result))\n"
     ]
    },
    {
     "data": {
      "image/png": "[encoded data removed]",
      "text/plain": [
       "<Figure size 600x400 with 2 Axes>"
      ]
     },
     "metadata": {},
     "output_type": "display_data"
    }
   ],
   "source": [
    "# Train baseline model\n",
    "rf = RandomForestClassifier(random_state=42)\n",
    "rf.fit(X_train_scaled, y_train)\n",
    "\n",
    "# Predict\n",
    "y_pred = rf.predict(X_test_scaled)\n",
    "y_prob = rf.predict_proba(X_test_scaled)[:, 1]\n",
    "\n",
    "# Evaluate\n",
    "print(\"📊 Random Forest Performance (Out-of-the-box):\")\n",
    "print(f\"Accuracy:     {accuracy_score(y_test, y_pred):.4f}\")\n",
    "print(f\"F1 Score:     {f1_score(y_test, y_pred):.4f}\")\n",
    "print(f\"ROC AUC:      {roc_auc_score(y_test, y_prob):.4f}\\n\")\n",
    "print(\"Classification Report:\")\n",
    "print(classification_report(y_test, y_pred))\n",
    "\n",
    "# Confusion Matrix\n",
    "plt.figure(figsize=(6, 4))\n",
    "sns.heatmap(confusion_matrix(y_test, y_pred), annot=True, fmt=\"d\", cmap=\"Blues\")\n",
    "plt.title(\"Confusion Matrix\")\n",
    "plt.xlabel(\"Predicted\")\n",
    "plt.ylabel(\"Actual\")\n",
    "plt.tight_layout()\n",
    "plt.show()\n"
   ]
  },
  {
   "cell_type": "code",
   "execution_count": 11,
   "id": "71d056af-150c-4eab-8b98-99152b28101d",
   "metadata": {
    "execution": {
     "iopub.execute_input": "2025-06-01T23:32:08.869115Z",
     "iopub.status.busy": "2025-06-01T23:32:08.869115Z",
     "iopub.status.idle": "2025-06-01T23:32:09.657380Z",
     "shell.execute_reply": "2025-06-01T23:32:09.657380Z",
     "shell.execute_reply.started": "2025-06-01T23:32:08.869115Z"
    }
   },
   "outputs": [
    {
     "data": {
      "image/png": "[encoded data removed]",
      "text/plain": [
       "<Figure size 800x500 with 1 Axes>"
      ]
     },
     "metadata": {},
     "output_type": "display_data"
    }
   ],
   "source": [
    "# Get predicted probabilities for the positive class (fraud)\n",
    "rf_probs = rf.predict_proba(X_test_scaled)[:, 1]\n",
    "\n",
    "# Range of thresholds to evaluate\n",
    "thresholds = np.linspace(0, 1, 100)\n",
    "f1_scores = [f1_score(y_test, rf_probs >= t) for t in thresholds]\n",
    "\n",
    "# Plot\n",
    "plt.figure(figsize=(8, 5))\n",
    "plt.plot(thresholds, f1_scores, marker='o')\n",
    "plt.title(\"Random Forest: F1 Score vs Probability Threshold\")\n",
    "plt.xlabel(\"Probability Threshold\")\n",
    "plt.ylabel(\"F1 Score\")\n",
    "plt.grid(True)\n",
    "plt.tight_layout()\n",
    "plt.show()\n"
   ]
  },
  {
   "cell_type": "markdown",
   "id": "55cbfe8a-4b05-40fb-b4a0-01b5664a2c13",
   "metadata": {},
   "source": [
    "<div class=\"alert alert-info\">Next, we will work on the OOTB CatBoost for performance comparison\n",
    "\n",
    "</div>"
   ]
  },
  {
   "cell_type": "code",
   "execution_count": 12,
   "id": "344b2fd8-9e8f-46f9-9925-8d95968349d0",
   "metadata": {
    "execution": {
     "iopub.execute_input": "2025-06-01T23:33:41.543428Z",
     "iopub.status.busy": "2025-06-01T23:33:41.543428Z",
     "iopub.status.idle": "2025-06-01T23:33:53.415110Z",
     "shell.execute_reply": "2025-06-01T23:33:53.414103Z",
     "shell.execute_reply.started": "2025-06-01T23:33:41.543428Z"
    }
   },
   "outputs": [
    {
     "name": "stdout",
     "output_type": "stream",
     "text": [
      "📊 CatBoost Performance (Out-of-the-box):\n",
      "Accuracy:     0.9935\n",
      "F1 Score:     0.0305\n",
      "ROC AUC:      0.8493\n",
      "\n",
      "Classification Report:\n",
      "              precision    recall  f1-score   support\n",
      "\n",
      "           0       0.99      1.00      1.00     29016\n",
      "           1       0.75      0.02      0.03       193\n",
      "\n",
      "    accuracy                           0.99     29209\n",
      "   macro avg       0.87      0.51      0.51     29209\n",
      "weighted avg       0.99      0.99      0.99     29209\n",
      "\n"
     ]
    },
    {
     "data": {
      "image/png": "[encoded data removed]",
      "text/plain": [
       "<Figure size 600x400 with 2 Axes>"
      ]
     },
     "metadata": {},
     "output_type": "display_data"
    }
   ],
   "source": [
    "# Initialize and train CatBoost\n",
    "catboost_model = CatBoostClassifier(verbose=0, random_state=42)\n",
    "catboost_model.fit(X_train_scaled, y_train)\n",
    "\n",
    "# Predict\n",
    "y_pred_cat = catboost_model.predict(X_test_scaled)\n",
    "y_prob_cat = catboost_model.predict_proba(X_test_scaled)[:, 1]\n",
    "\n",
    "# Evaluate\n",
    "print(\"📊 CatBoost Performance (Out-of-the-box):\")\n",
    "print(f\"Accuracy:     {accuracy_score(y_test, y_pred_cat):.4f}\")\n",
    "print(f\"F1 Score:     {f1_score(y_test, y_pred_cat):.4f}\")\n",
    "print(f\"ROC AUC:      {roc_auc_score(y_test, y_prob_cat):.4f}\\n\")\n",
    "print(\"Classification Report:\")\n",
    "print(classification_report(y_test, y_pred_cat))\n",
    "\n",
    "# Confusion Matrix\n",
    "plt.figure(figsize=(6, 4))\n",
    "sns.heatmap(confusion_matrix(y_test, y_pred_cat), annot=True, fmt=\"d\", cmap=\"Purples\")\n",
    "plt.title(\"Confusion Matrix - CatBoost\")\n",
    "plt.xlabel(\"Predicted\")\n",
    "plt.ylabel(\"Actual\")\n",
    "plt.tight_layout()\n",
    "plt.show()\n"
   ]
  },
  {
   "cell_type": "code",
   "execution_count": 14,
   "id": "fefa6bd1-151e-43aa-a300-c10993e26d11",
   "metadata": {
    "execution": {
     "iopub.execute_input": "2025-06-01T23:35:53.592651Z",
     "iopub.status.busy": "2025-06-01T23:35:53.592651Z",
     "iopub.status.idle": "2025-06-01T23:35:54.209756Z",
     "shell.execute_reply": "2025-06-01T23:35:54.209756Z",
     "shell.execute_reply.started": "2025-06-01T23:35:53.592651Z"
    }
   },
   "outputs": [
    {
     "data": {
      "image/png": "[encoded data removed]",
      "text/plain": [
       "<Figure size 800x500 with 1 Axes>"
      ]
     },
     "metadata": {},
     "output_type": "display_data"
    }
   ],
   "source": [
    "# Get predicted probabilities for the positive class (fraud)\n",
    "cb_probs = catboost_model.predict_proba(X_test_scaled)[:, 1]\n",
    "\n",
    "# Range of thresholds to evaluate\n",
    "#Threshold range defined during Random Forest plot\n",
    "f1_scores = [f1_score(y_test, cb_probs >= t) for t in thresholds]\n",
    "\n",
    "# Plot\n",
    "plt.figure(figsize=(8, 5))\n",
    "plt.plot(thresholds, f1_scores, marker='o')\n",
    "plt.title(\"Catboost: F1 Score vs Probability Threshold\")\n",
    "plt.xlabel(\"Probability Threshold\")\n",
    "plt.ylabel(\"F1 Score\")\n",
    "plt.grid(True)\n",
    "plt.tight_layout()\n",
    "plt.show()"
   ]
  },
  {
   "cell_type": "markdown",
   "id": "f5f7e657-76a1-4dbb-993d-217bfb1b0ce8",
   "metadata": {},
   "source": [
    "<div class=\"alert alert-info\">Finally, we will work on the OOTB DNN using TensorFlow. This is our third performance comparison\n",
    "\n",
    "</div>"
   ]
  },
  {
   "cell_type": "code",
   "execution_count": 15,
   "id": "3f84c109-006c-40c9-8ef3-bf5bbd84a1cb",
   "metadata": {
    "execution": {
     "iopub.execute_input": "2025-06-01T23:36:48.175955Z",
     "iopub.status.busy": "2025-06-01T23:36:48.175955Z",
     "iopub.status.idle": "2025-06-01T23:36:55.339430Z",
     "shell.execute_reply": "2025-06-01T23:36:55.338772Z",
     "shell.execute_reply.started": "2025-06-01T23:36:48.175955Z"
    }
   },
   "outputs": [
    {
     "name": "stdout",
     "output_type": "stream",
     "text": [
      "Epoch 1/10\n"
     ]
    },
    {
     "name": "stderr",
     "output_type": "stream",
     "text": [
      "C:\\Users\\binia\\AppData\\Roaming\\Python\\Python311\\site-packages\\keras\\src\\layers\\core\\dense.py:93: UserWarning: Do not pass an `input_shape`/`input_dim` argument to a layer. When using Sequential models, prefer using an `Input(shape)` object as the first layer in the model instead.\n",
      "  super().__init__(activity_regularizer=activity_regularizer, **kwargs)\n"
     ]
    },
    {
     "name": "stdout",
     "output_type": "stream",
     "text": [
      "\u001b[1m229/229\u001b[0m \u001b[32m━━━━━━━━━━━━━━━━━━━━\u001b[0m\u001b[37m\u001b[0m \u001b[1m1s\u001b[0m 3ms/step - accuracy: 0.8771 - loss: 2.0052 - val_accuracy: 0.9934 - val_loss: 0.3947\n",
      "Epoch 2/10\n",
      "\u001b[1m229/229\u001b[0m \u001b[32m━━━━━━━━━━━━━━━━━━━━\u001b[0m\u001b[37m\u001b[0m \u001b[1m1s\u001b[0m 2ms/step - accuracy: 0.9892 - loss: 0.4069 - val_accuracy: 0.9934 - val_loss: 0.2634\n",
      "Epoch 3/10\n",
      "\u001b[1m229/229\u001b[0m \u001b[32m━━━━━━━━━━━━━━━━━━━━\u001b[0m\u001b[37m\u001b[0m \u001b[1m1s\u001b[0m 2ms/step - accuracy: 0.9911 - loss: 0.2508 - val_accuracy: 0.9934 - val_loss: 0.1712\n",
      "Epoch 4/10\n",
      "\u001b[1m229/229\u001b[0m \u001b[32m━━━━━━━━━━━━━━━━━━━━\u001b[0m\u001b[37m\u001b[0m \u001b[1m1s\u001b[0m 2ms/step - accuracy: 0.9917 - loss: 0.1873 - val_accuracy: 0.9934 - val_loss: 0.1036\n",
      "Epoch 5/10\n",
      "\u001b[1m229/229\u001b[0m \u001b[32m━━━━━━━━━━━━━━━━━━━━\u001b[0m\u001b[37m\u001b[0m \u001b[1m1s\u001b[0m 2ms/step - accuracy: 0.9912 - loss: 0.1467 - val_accuracy: 0.9934 - val_loss: 0.0994\n",
      "Epoch 6/10\n",
      "\u001b[1m229/229\u001b[0m \u001b[32m━━━━━━━━━━━━━━━━━━━━\u001b[0m\u001b[37m\u001b[0m \u001b[1m1s\u001b[0m 2ms/step - accuracy: 0.9923 - loss: 0.1081 - val_accuracy: 0.9934 - val_loss: 0.0743\n",
      "Epoch 7/10\n",
      "\u001b[1m229/229\u001b[0m \u001b[32m━━━━━━━━━━━━━━━━━━━━\u001b[0m\u001b[37m\u001b[0m \u001b[1m1s\u001b[0m 2ms/step - accuracy: 0.9925 - loss: 0.0917 - val_accuracy: 0.9934 - val_loss: 0.0667\n",
      "Epoch 8/10\n",
      "\u001b[1m229/229\u001b[0m \u001b[32m━━━━━━━━━━━━━━━━━━━━\u001b[0m\u001b[37m\u001b[0m \u001b[1m1s\u001b[0m 3ms/step - accuracy: 0.9924 - loss: 0.0802 - val_accuracy: 0.9934 - val_loss: 0.0650\n",
      "Epoch 9/10\n",
      "\u001b[1m229/229\u001b[0m \u001b[32m━━━━━━━━━━━━━━━━━━━━\u001b[0m\u001b[37m\u001b[0m \u001b[1m0s\u001b[0m 2ms/step - accuracy: 0.9924 - loss: 0.0864 - val_accuracy: 0.9934 - val_loss: 0.0599\n",
      "Epoch 10/10\n",
      "\u001b[1m229/229\u001b[0m \u001b[32m━━━━━━━━━━━━━━━━━━━━\u001b[0m\u001b[37m\u001b[0m \u001b[1m1s\u001b[0m 2ms/step - accuracy: 0.9930 - loss: 0.0686 - val_accuracy: 0.9934 - val_loss: 0.0550\n",
      "\u001b[1m913/913\u001b[0m \u001b[32m━━━━━━━━━━━━━━━━━━━━\u001b[0m\u001b[37m\u001b[0m \u001b[1m0s\u001b[0m 497us/step\n",
      "📊 DNN Performance (Out-of-the-box):\n",
      "Accuracy:     0.9934\n",
      "F1 Score:     0.0000\n",
      "ROC AUC:      0.6177\n",
      "\n",
      "Classification Report:\n",
      "              precision    recall  f1-score   support\n",
      "\n",
      "           0       0.99      1.00      1.00     29016\n",
      "           1       0.00      0.00      0.00       193\n",
      "\n",
      "    accuracy                           0.99     29209\n",
      "   macro avg       0.50      0.50      0.50     29209\n",
      "weighted avg       0.99      0.99      0.99     29209\n",
      "\n"
     ]
    },
    {
     "name": "stderr",
     "output_type": "stream",
     "text": [
      "C:\\Users\\binia\\AppData\\Roaming\\Python\\Python311\\site-packages\\sklearn\\metrics\\_classification.py:1471: UndefinedMetricWarning: Precision and F-score are ill-defined and being set to 0.0 in labels with no predicted samples. Use `zero_division` parameter to control this behavior.\n",
      "  _warn_prf(average, modifier, msg_start, len(result))\n",
      "C:\\Users\\binia\\AppData\\Roaming\\Python\\Python311\\site-packages\\sklearn\\metrics\\_classification.py:1471: UndefinedMetricWarning: Precision and F-score are ill-defined and being set to 0.0 in labels with no predicted samples. Use `zero_division` parameter to control this behavior.\n",
      "  _warn_prf(average, modifier, msg_start, len(result))\n",
      "C:\\Users\\binia\\AppData\\Roaming\\Python\\Python311\\site-packages\\sklearn\\metrics\\_classification.py:1471: UndefinedMetricWarning: Precision and F-score are ill-defined and being set to 0.0 in labels with no predicted samples. Use `zero_division` parameter to control this behavior.\n",
      "  _warn_prf(average, modifier, msg_start, len(result))\n"
     ]
    },
    {
     "data": {
      "image/png": "[encoded data removed]",
      "text/plain": [
       "<Figure size 600x400 with 2 Axes>"
      ]
     },
     "metadata": {},
     "output_type": "display_data"
    }
   ],
   "source": [
    "# Define DNN architecture\n",
    "model = Sequential([\n",
    "    Dense(64, input_shape=(X_train_scaled.shape[1],), activation='relu'),\n",
    "    Dropout(0.3),\n",
    "    Dense(32, activation='relu'),\n",
    "    Dropout(0.3),\n",
    "    Dense(1, activation='sigmoid')\n",
    "])\n",
    "\n",
    "# Compile\n",
    "model.compile(optimizer=Adam(learning_rate=0.001), loss='binary_crossentropy', metrics=['accuracy'])\n",
    "\n",
    "# Fit\n",
    "history = model.fit(\n",
    "    X_train_scaled, y_train,\n",
    "    validation_data=(X_test_scaled, y_test),\n",
    "    epochs=10,\n",
    "    batch_size=512,\n",
    "    verbose=1\n",
    ")\n",
    "\n",
    "# Predict\n",
    "y_prob_dnn = model.predict(X_test_scaled).ravel()\n",
    "y_pred_dnn = (y_prob_dnn > 0.5).astype(int)\n",
    "\n",
    "# Evaluate\n",
    "print(\"📊 DNN Performance (Out-of-the-box):\")\n",
    "print(f\"Accuracy:     {accuracy_score(y_test, y_pred_dnn):.4f}\")\n",
    "print(f\"F1 Score:     {f1_score(y_test, y_pred_dnn):.4f}\")\n",
    "print(f\"ROC AUC:      {roc_auc_score(y_test, y_prob_dnn):.4f}\\n\")\n",
    "print(\"Classification Report:\")\n",
    "print(classification_report(y_test, y_pred_dnn))\n",
    "\n",
    "# Confusion Matrix\n",
    "plt.figure(figsize=(6, 4))\n",
    "sns.heatmap(confusion_matrix(y_test, y_pred_dnn), annot=True, fmt=\"d\", cmap=\"Greens\")\n",
    "plt.title(\"Confusion Matrix - DNN\")\n",
    "plt.xlabel(\"Predicted\")\n",
    "plt.ylabel(\"Actual\")\n",
    "plt.tight_layout()\n",
    "plt.show()\n"
   ]
  },
  {
   "cell_type": "code",
   "execution_count": 19,
   "id": "0fe69a43-a1ad-4a93-99bc-ebe337db7832",
   "metadata": {
    "execution": {
     "iopub.execute_input": "2025-06-01T23:43:37.822455Z",
     "iopub.status.busy": "2025-06-01T23:43:37.822455Z",
     "iopub.status.idle": "2025-06-01T23:43:38.890608Z",
     "shell.execute_reply": "2025-06-01T23:43:38.890608Z",
     "shell.execute_reply.started": "2025-06-01T23:43:37.822455Z"
    }
   },
   "outputs": [
    {
     "name": "stdout",
     "output_type": "stream",
     "text": [
      "\u001b[1m913/913\u001b[0m \u001b[32m━━━━━━━━━━━━━━━━━━━━\u001b[0m\u001b[37m\u001b[0m \u001b[1m0s\u001b[0m 463us/step\n"
     ]
    },
    {
     "data": {
      "image/png": "[encoded data removed]",
      "text/plain": [
       "<Figure size 800x500 with 1 Axes>"
      ]
     },
     "metadata": {},
     "output_type": "display_data"
    }
   ],
   "source": [
    "# Get predicted probabilities for the positive class (fraud)\n",
    "dnn_probs = model.predict(X_test_scaled).ravel()\n",
    "\n",
    "# Range of thresholds to evaluate\n",
    "#Threshold range defined during Random Forest plot\n",
    "f1_scores = [f1_score(y_test, dnn_probs >= t) for t in thresholds]\n",
    "\n",
    "# Plot\n",
    "plt.figure(figsize=(8, 5))\n",
    "plt.plot(thresholds, f1_scores, marker='o')\n",
    "plt.title(\"DNN: F1 Score vs Probability Threshold\")\n",
    "plt.xlabel(\"Probability Threshold\")\n",
    "plt.ylabel(\"F1 Score\")\n",
    "plt.grid(True)\n",
    "plt.tight_layout()\n",
    "plt.show()"
   ]
  },
  {
   "cell_type": "markdown",
   "id": "37cac8c1-40bb-4d0a-97e0-e54e747ac4db",
   "metadata": {},
   "source": [
    "<div class=\"alert alert-info\">To improve on F-1 score, we are going to oversample and repeat the training for all three model: <br>\n",
    "1. Random Forest<<br>\n",
    "2. Catboost\n",
    "\n",
    "</div>"
   ]
  },
  {
   "cell_type": "code",
   "execution_count": null,
   "id": "61d58c71-e8e9-4cc6-a5bb-39cb03b97767",
   "metadata": {},
   "outputs": [],
   "source": [
    "# Oversample the minority class in the training data\n",
    "from imblearn.over_sampling import RandomOverSampler\n",
    "\n",
    "ros = RandomOverSampler(random_state=42)\n",
    "X_train_ros, y_train_ros = ros.fit_resample(X_train_scaled, y_train)\n",
    "\n",
    "# Retrain the model (Random Forest as example)\n",
    "rf_ros = RandomForestClassifier(random_state=42)\n",
    "rf_ros.fit(X_train_ros, y_train_ros)\n",
    "\n",
    "# Predict probabilities on the original test set\n",
    "rf_ros_probs = rf_ros.predict_proba(X_test_scaled)[:, 1]\n",
    "\n",
    "# Plot F1 Score vs Threshold\n",
    "f1_scores_ros = [f1_score(y_test, rf_ros_probs >= t) for t in thresholds]\n",
    "\n",
    "plt.figure(figsize=(8, 5))\n",
    "plt.plot(thresholds, f1_scores_ros, marker='o')\n",
    "plt.title(\"Random Forest (Oversampled): F1 Score vs Probability Threshold\")\n",
    "plt.xlabel(\"Probability Threshold\")\n",
    "plt.ylabel(\"F1 Score\")\n",
    "plt.grid(True)\n",
    "plt.tight_layout()\n",
    "plt.show()\n"
   ]
  },
  {
   "cell_type": "markdown",
   "id": "03cad8ed-d50e-4fa8-90ce-97be59ac3db7",
   "metadata": {},
   "source": [
    "<div class=\"alert alert-info\">Saving the Catboost and DNN models and the scaler for the modeling steps\n",
    "\n",
    "</div>"
   ]
  },
  {
   "cell_type": "code",
   "execution_count": null,
   "id": "61d06e20-e7d3-4072-ab0a-e52b9c6b3974",
   "metadata": {
    "execution": {
     "iopub.status.busy": "2025-06-01T23:31:33.846546Z",
     "iopub.status.idle": "2025-06-01T23:31:33.846546Z",
     "shell.execute_reply": "2025-06-01T23:31:33.846546Z",
     "shell.execute_reply.started": "2025-06-01T23:31:33.846546Z"
    }
   },
   "outputs": [],
   "source": [
    "# Save CatBoost and DNN models\n",
    "\n",
    "# Define model path\n",
    "modelpath = \"../models\"\n",
    "os.makedirs(modelpath, exist_ok=True)\n",
    "\n",
    "# Save scaler\n",
    "scaler_filename = os.path.join(modelpath,\"column_scaler.pkl\")\n",
    "joblib.dump(scaler, scaler_filename)\n",
    "\n",
    "# Save CatBoost model\n",
    "cb_model_filename = os.path.join(modelpath, \"catboost_model.pkl\")\n",
    "joblib.dump(catboost_model, cb_model_filename)\n",
    "\n",
    "# Save DNN model (Keras)\n",
    "dnn_model_filename = os.path.join(modelpath, \"dnn_model.keras\")\n",
    "model.save(dnn_model_filename)\n",
    "\n",
    "# Confirm\n",
    "print(f\"✅ Models saved successfully:\")\n",
    "print(f\"   • CatBoost: {cb_model_filename}\")\n",
    "print(f\"   • DNN:      {dnn_model_filename}\")\n"
   ]
  },
  {
   "cell_type": "code",
   "execution_count": null,
   "id": "0ebe7887-f84a-4bc4-a08c-2ce86bf2d36c",
   "metadata": {
    "execution": {
     "iopub.status.busy": "2025-06-01T23:31:33.848694Z",
     "iopub.status.idle": "2025-06-01T23:31:33.848694Z",
     "shell.execute_reply": "2025-06-01T23:31:33.848694Z",
     "shell.execute_reply.started": "2025-06-01T23:31:33.848694Z"
    }
   },
   "outputs": [],
   "source": [
    "# Metadata values\n",
    "metadata = {\n",
    "    \"version\": \"v1.0\",  # Version manually or auto-increment later\n",
    "    \"build_datetime\": datetime.now().strftime(\"%Y-%m-%d %H:%M:%S\"),\n",
    "    \"features\": X_train.columns.tolist()\n",
    "}\n",
    "\n",
    "# Save to JSON files\n",
    "with open(os.path.join(modelpath, \"catboost_model_meta.json\"), \"w\") as f:\n",
    "    json.dump(metadata, f, indent=4)\n",
    "\n",
    "with open(os.path.join(modelpath, \"dnn_model_meta.json\"), \"w\") as f:\n",
    "    json.dump(metadata, f, indent=4)\n",
    "\n",
    "print(\"✅ Metadata saved for both models.\")\n"
   ]
  },
  {
   "cell_type": "code",
   "execution_count": null,
   "id": "4a14fd1e-53de-4227-ab15-edc5712882ad",
   "metadata": {
    "execution": {
     "iopub.status.busy": "2025-06-01T23:31:33.849694Z",
     "iopub.status.idle": "2025-06-01T23:31:33.849694Z",
     "shell.execute_reply": "2025-06-01T23:31:33.849694Z",
     "shell.execute_reply.started": "2025-06-01T23:31:33.849694Z"
    }
   },
   "outputs": [],
   "source": [
    "#Stop the timer to check the execution time of the notebook.\n",
    "end_time = time.time()\n",
    "print(f\"Total execution time: {round(end_time - start_time, 2)} seconds\")"
   ]
  },
  {
   "cell_type": "markdown",
   "id": "35046d71-eb9b-4998-be5c-faf27a6151c4",
   "metadata": {},
   "source": [
    "## ✅ Model Training Summary\n",
    "\n",
    "<div class=\"alert alert-block alert-info\">\n",
    "\n",
    "### 📌 Purpose\n",
    "This notebook focused on transforming the cleaned EDA dataset into a model-ready format and establishing baseline performance through training and evaluation of out-of-the-box (OOTB) models.\n",
    "\n",
    "---\n",
    "\n",
    "### 📊 Baseline Reference\n",
    "\n",
    "As a starting point, we observed the class distribution of `misstate`, which is highly imbalanced (~0.66% fraud). Any model's performance must therefore be judged not just on accuracy, but also on its ability to detect rare positive cases. This baseline set expectations for recall, precision, and ROC AUC, especially for fraud cases.\n",
    "\n",
    "---\n",
    "\n",
    "### 🧠 Models Trained\n",
    "\n",
    "Three models were trained without hyperparameter tuning:\n",
    "\n",
    "- **Random Forest**\n",
    "- **CatBoostClassifier**\n",
    "- **Deep Neural Network (DNN)**\n",
    "\n",
    "These were selected to capture diversity across ensemble methods (bagging and boosting) and deep learning.\n",
    "\n",
    "---\n",
    "\n",
    "### 🔎 Key Observations\n",
    "\n",
    "| Model          | ROC AUC | F1 Score | Fraud Recall |\n",
    "|----------------|---------|----------|---------------|\n",
    "| Random Forest  | 0.8278  | 0.0000   | 0.00          |\n",
    "| CatBoost       | 0.8493  | 0.0305   | 0.02          |\n",
    "| DNN            | 0.6368  | 0.0000   | 0.00          |\n",
    "\n",
    "- **CatBoost achieved the best OOTB performance**, detecting a small number of fraud cases and showing the highest ROC AUC.\n",
    "- **DNN underperformed in OOTB form**, but given its generalization power with deeper tuning and regularization, it still holds promise.\n",
    "- **Random Forest**, despite high accuracy, detected zero fraud cases and showed no meaningful signal — it will not be included in the tuning phase.\n",
    "\n",
    "---\n",
    "\n",
    "### 📦 Model Selection for Tuning\n",
    "\n",
    "We will **carry both CatBoost and DNN forward** into the next phase for hyperparameter tuning. These two represent distinct modeling paradigms (boosting vs deep learning) and warrant deeper exploration via cross-validation.\n",
    "\n",
    "Out-of-the-box results alone are **not enough to conclusively determine the best model** for the business problem, especially given the imbalance and lack of tuning. Future tuning will explore improved recall, calibration, and generalization.\n",
    "\n",
    "---\n",
    "\n",
    "### 🧭 Next Step\n",
    "\n",
    "The next notebook will focus on:\n",
    "- Hyperparameter optimization\n",
    "- Cross-validated performance assessment\n",
    "- Model selection for business deployment\n",
    "\n",
    "</div>\n"
   ]
  },
  {
   "cell_type": "markdown",
   "id": "25d020b9-c62c-4868-8242-b8efca6386c9",
   "metadata": {},
   "source": [
    "<div class=\"alert alert-info\">This next step is not required. <br>\n",
    "    However, assuming that hyperparameter optimization will take time to run,<br>\n",
    "    Modeling work will be done in Google Colab to leverage GPU and CPU resources. The models and data will be uploaded to the Colab environment. \n",
    "\n",
    "</div>"
   ]
  },
  {
   "cell_type": "code",
   "execution_count": null,
   "id": "6c15d986-67de-4293-9f88-f1c40863346c",
   "metadata": {
    "execution": {
     "iopub.status.busy": "2025-06-01T23:31:33.850694Z",
     "iopub.status.idle": "2025-06-01T23:31:33.850694Z",
     "shell.execute_reply": "2025-06-01T23:31:33.850694Z",
     "shell.execute_reply.started": "2025-06-01T23:31:33.850694Z"
    }
   },
   "outputs": [],
   "source": [
    "import zipfile\n",
    "\n",
    "\n",
    "zipf = zipfile.ZipFile(\"fraud_preprocessed.zip\", \"w\", zipfile.ZIP_DEFLATED)\n",
    "\n",
    "# Add model files\n",
    "model_dir = \"../models\"\n",
    "for root, _, files in os.walk(model_dir):\n",
    "    for file in files:\n",
    "        zipf.write(os.path.join(root, file),\n",
    "                   arcname=os.path.join(\"models\", os.path.relpath(os.path.join(root, file), model_dir)))\n",
    "\n",
    "# Add only the EDA data file\n",
    "data_file = \"../data/fraud_data_eda.csv\"\n",
    "zipf.write(data_file, arcname=\"data/fraud_data_eda.csv\")\n",
    "\n",
    "zipf.close()\n",
    "print(\"✅ Zipped fraud_preprocessed.zip\")\n"
   ]
  },
  {
   "cell_type": "markdown",
   "id": "95270ec7-8860-46d4-9828-005fc669aab3",
   "metadata": {},
   "source": [
    " \n",
    "\n",
    "<div class=\"alert alert-block alert-info\">\n",
    " <a href= https://github.com/BTExpress1/accounting-fraud-detection/blob/912143e62cb4a979328faef40529d70026dc01ed/notebooks/04_modeling.ipynb>Here is the Modeling notebook: 04_modeling.ipynb</a>\n",
    "</div>"
   ]
  }
 ],
 "metadata": {
  "kernelspec": {
   "display_name": "Python 3.11 (fd-env)",
   "language": "python",
   "name": "fd-env"
  },
  "language_info": {
   "codemirror_mode": {
    "name": "ipython",
    "version": 3
   },
   "file_extension": ".py",
   "mimetype": "text/x-python",
   "name": "python",
   "nbconvert_exporter": "python",
   "pygments_lexer": "ipython3",
   "version": "3.11.8"
  }
 },
 "nbformat": 4,
 "nbformat_minor": 5
}
